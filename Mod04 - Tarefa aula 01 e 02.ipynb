{
 "cells": [
  {
   "cell_type": "markdown",
   "metadata": {},
   "source": [
    "# Tarefa 01\n",
    "\n",
    "- Leia os enunciados com atenção\n",
    "- Saiba que pode haver mais de uma resposta correta\n",
    "- Insira novas células de código sempre que achar necessário\n",
    "- Em caso de dúvidas, procure os tutores\n",
    "- Divirta-se :)\n",
    "\n",
    "#### 1)  crie uma série do pandas a partir de uma lista com os dados abaixo:\n",
    "\n",
    "Em um estudo sobre alteração na tempreatura global, A NASA disponibiliza dados de diferenças de de temperatura média da superfície terrestre relativos às médias de temperatura entre 1951 e 1980. Os dados originais podem ser vistos no site da NASA/GISS, e estão dispostos a cada década na tabela abaixo.\n",
    "\n",
    "|ano|anomalia termica|\n",
    "|:-:|:----:|\n",
    "| 1900 | -0.08 |\n",
    "| 1920 | -0.27 |\n",
    "| 1940 | 0.12 |\n",
    "| 1960 | -0.03 |\n",
    "| 1980 | 0.26 |\n",
    "| 2000 | 0.40 |\n",
    "| 2020 | 1.02 |\n",
    "\n",
    "Crie uma séries do Pandas a partir de uma lista com esses dados."
   ]
  },
  {
   "cell_type": "code",
   "execution_count": 6,
   "metadata": {},
   "outputs": [
    {
     "name": "stdout",
     "output_type": "stream",
     "text": [
      "1900   -0.08\n",
      "1920   -0.27\n",
      "1940    0.12\n",
      "1960   -0.03\n",
      "1980    0.26\n",
      "2000    0.40\n",
      "2020    1.02\n",
      "dtype: float64\n"
     ]
    }
   ],
   "source": [
    "import pandas as pd\n",
    "import numpy as np\n",
    "\n",
    "# Seu código aqui\n",
    "anos = [1900, 1920, 1940, 1960, 1980, 2000, 2020]\n",
    "anomalias_termicas = [-0.08, -0.27, 0.12, -0.03, 0.26, 0.40, 1.02]\n",
    "\n",
    "serie_anomalias = pd.Series(anomalias_termicas, anos)\n",
    "\n",
    "print(serie_anomalias)"
   ]
  },
  {
   "cell_type": "markdown",
   "metadata": {},
   "source": [
    "#### 2) Coloque os anos nos índices conforme a tabela."
   ]
  },
  {
   "cell_type": "code",
   "execution_count": 10,
   "metadata": {},
   "outputs": [
    {
     "name": "stdout",
     "output_type": "stream",
     "text": [
      "1900   -0.08\n",
      "1920   -0.27\n",
      "1940    0.12\n",
      "1960   -0.03\n",
      "1980    0.26\n",
      "2000    0.40\n",
      "2020    1.02\n",
      "Name: Anomalias Térmicas, dtype: float64\n"
     ]
    }
   ],
   "source": [
    "# seu código aqui\n",
    "serie_anomalias = pd.Series(anomalias_termicas, index=anos, name=\"Anomalias Térmicas\")\n",
    "\n",
    "print(serie_anomalias)"
   ]
  },
  {
   "cell_type": "markdown",
   "metadata": {},
   "source": [
    "#### 3) A partir do dicionário abaixo, crie uma séries do Pandas:"
   ]
  },
  {
   "cell_type": "code",
   "execution_count": 16,
   "metadata": {},
   "outputs": [
    {
     "name": "stdout",
     "output_type": "stream",
     "text": [
      "1900   -0.08\n",
      "1920   -0.27\n",
      "1940    0.12\n",
      "1960   -0.03\n",
      "1980    0.26\n",
      "2000    0.40\n",
      "2020    1.02\n",
      "dtype: float64\n"
     ]
    }
   ],
   "source": [
    "dic_temperaturas = {1900: -.08, 1920: -.27, 1940: .12, 1960: -.03, 1980: .26, 2000: .40, 2020: 1.02}\n",
    "\n",
    "# seu código aqui\n",
    "serie_temperaturas = pd.Series(dic_temperaturas)\n",
    "\n",
    "print(serie_temperaturas)"
   ]
  },
  {
   "cell_type": "markdown",
   "metadata": {},
   "source": [
    "#### 4) Transforme o ndarray abaixo em um dataframe. \n",
    "O numpy é capaz de gerar arrays n-dimensionais com números pseudo-aleatórios de acordo com uma variedade de distribuições, como no exemplo abaixo. Transforme esse nd-array em um DataFrame."
   ]
  },
  {
   "cell_type": "code",
   "execution_count": 22,
   "metadata": {},
   "outputs": [
    {
     "name": "stdout",
     "output_type": "stream",
     "text": [
      "             0           1           2\n",
      "0   106.283343  104.309424   99.641294\n",
      "1   108.535764  100.450475  110.417508\n",
      "2   121.644599   98.641332   95.737056\n",
      "3   102.481652  103.549924   82.583694\n",
      "4    94.837333   90.548247   86.427350\n",
      "5   113.200525  109.698484   93.297188\n",
      "6    99.601580  109.548903  100.567839\n",
      "7   101.858298   83.770178  108.210030\n",
      "8   103.267943   96.102242   97.498683\n",
      "9   112.078431  122.702862  120.292077\n",
      "10   91.634922  129.131757   97.551306\n",
      "11   93.285064   92.310922  114.004435\n",
      "12   71.057511  106.296630  115.503837\n",
      "13  115.782192   95.295543  109.422682\n",
      "14   99.859817   73.767868  104.733189\n",
      "15   92.018091   93.559862  119.331338\n",
      "16   93.087420  107.878177   93.763242\n",
      "17   99.070938   92.433977  104.528290\n",
      "18   99.632165  100.279610  104.530729\n",
      "19   86.726559  116.914483   97.566402\n"
     ]
    }
   ],
   "source": [
    "arr = np.random.normal(100, 10, (20,3))\n",
    "\n",
    "# seu código aqui\n",
    "df = pd.DataFrame(arr)\n",
    "\n",
    "print(df)"
   ]
  },
  {
   "cell_type": "markdown",
   "metadata": {},
   "source": [
    "#### 5) Nomeie os índices das linhas com inteiros de 1 a 20, e as colunas com os nomes \"x1\", \"x2\", e \"x3\" respectivamente."
   ]
  },
  {
   "cell_type": "code",
   "execution_count": 20,
   "metadata": {},
   "outputs": [
    {
     "name": "stdout",
     "output_type": "stream",
     "text": [
      "            x1          x2          x3\n",
      "1    95.539242  117.189221  105.656307\n",
      "2    92.450411   93.312475  112.012801\n",
      "3    93.042562   92.444678   93.693945\n",
      "4    96.667618   96.892765  106.331091\n",
      "5    98.205912  112.950842   88.171646\n",
      "6    96.253540  107.046841  101.854910\n",
      "7    87.049496   90.240099   87.641826\n",
      "8    93.681119   86.437077  103.166848\n",
      "9   100.485532  107.496884  102.699128\n",
      "10  118.423192   94.298777  103.501104\n",
      "11   98.010192   99.981590   93.809262\n",
      "12   80.825569   78.347029   93.163939\n",
      "13   92.994395  120.353728  123.282181\n",
      "14  113.552130   86.095698   98.386228\n",
      "15   91.200225  115.305495  113.621082\n",
      "16  121.959522   98.184637   95.953806\n",
      "17  103.156347  108.089044  109.766823\n",
      "18   82.443729  106.751497  113.427513\n",
      "19   97.429816   90.916124  111.783657\n",
      "20  103.838826  108.017224   93.628400\n"
     ]
    }
   ],
   "source": [
    "#seu código aqui\n",
    "df = pd.DataFrame(arr, columns=[\"x1\", \"x2\", \"x3\"])\n",
    "\n",
    "df.index = range(1, 21)\n",
    "\n",
    "print(df)"
   ]
  },
  {
   "cell_type": "markdown",
   "metadata": {},
   "source": [
    "#### 6) No DataFrame do exercício 5, crie uma nova coluna como sendo a média das três colunas, e dê a ela o nome de \"media\" (não recomendo colocar acentos em nomes de variáveis)."
   ]
  },
  {
   "cell_type": "code",
   "execution_count": 24,
   "metadata": {},
   "outputs": [
    {
     "name": "stdout",
     "output_type": "stream",
     "text": [
      "             0           1           2       media\n",
      "0   106.283343  104.309424   99.641294  103.411353\n",
      "1   108.535764  100.450475  110.417508  106.467916\n",
      "2   121.644599   98.641332   95.737056  105.340996\n",
      "3   102.481652  103.549924   82.583694   96.205090\n",
      "4    94.837333   90.548247   86.427350   90.604310\n",
      "5   113.200525  109.698484   93.297188  105.398732\n",
      "6    99.601580  109.548903  100.567839  103.239441\n",
      "7   101.858298   83.770178  108.210030   97.946169\n",
      "8   103.267943   96.102242   97.498683   98.956289\n",
      "9   112.078431  122.702862  120.292077  118.357790\n",
      "10   91.634922  129.131757   97.551306  106.105995\n",
      "11   93.285064   92.310922  114.004435   99.866807\n",
      "12   71.057511  106.296630  115.503837   97.619326\n",
      "13  115.782192   95.295543  109.422682  106.833473\n",
      "14   99.859817   73.767868  104.733189   92.786958\n",
      "15   92.018091   93.559862  119.331338  101.636430\n",
      "16   93.087420  107.878177   93.763242   98.242946\n",
      "17   99.070938   92.433977  104.528290   98.677735\n",
      "18   99.632165  100.279610  104.530729  101.480835\n",
      "19   86.726559  116.914483   97.566402  100.402481\n"
     ]
    }
   ],
   "source": [
    "# seu código aqui\n",
    "df['media'] = df.mean(axis=1)\n",
    "\n",
    "print(df)"
   ]
  },
  {
   "cell_type": "markdown",
   "metadata": {},
   "source": [
    "#### 7) No DataFrame do exercício 6, crie uma nova coluna chamada \"log_med\", contendo o logaritmo natural da média calculada no exercício 6 <br>"
   ]
  },
  {
   "cell_type": "code",
   "execution_count": 26,
   "metadata": {},
   "outputs": [
    {
     "name": "stdout",
     "output_type": "stream",
     "text": [
      "             0           1           2       media   log_med\n",
      "0   106.283343  104.309424   99.641294  103.411353  4.638715\n",
      "1   108.535764  100.450475  110.417508  106.467916  4.667844\n",
      "2   121.644599   98.641332   95.737056  105.340996  4.657203\n",
      "3   102.481652  103.549924   82.583694   96.205090  4.566482\n",
      "4    94.837333   90.548247   86.427350   90.604310  4.506502\n",
      "5   113.200525  109.698484   93.297188  105.398732  4.657751\n",
      "6    99.601580  109.548903  100.567839  103.239441  4.637051\n",
      "7   101.858298   83.770178  108.210030   97.946169  4.584418\n",
      "8   103.267943   96.102242   97.498683   98.956289  4.594678\n",
      "9   112.078431  122.702862  120.292077  118.357790  4.773712\n",
      "10   91.634922  129.131757   97.551306  106.105995  4.664439\n",
      "11   93.285064   92.310922  114.004435   99.866807  4.603837\n",
      "12   71.057511  106.296630  115.503837   97.619326  4.581075\n",
      "13  115.782192   95.295543  109.422682  106.833473  4.671271\n",
      "14   99.859817   73.767868  104.733189   92.786958  4.530306\n",
      "15   92.018091   93.559862  119.331338  101.636430  4.621402\n",
      "16   93.087420  107.878177   93.763242   98.242946  4.587443\n",
      "17   99.070938   92.433977  104.528290   98.677735  4.591859\n",
      "18   99.632165  100.279610  104.530729  101.480835  4.619870\n",
      "19   86.726559  116.914483   97.566402  100.402481  4.609187\n"
     ]
    }
   ],
   "source": [
    "# seu código aqui\n",
    "df['log_med'] = np.log(df['media'])\n",
    "\n",
    "print(df)"
   ]
  }
 ],
 "metadata": {
  "kernelspec": {
   "display_name": "Python 3 (ipykernel)",
   "language": "python",
   "name": "python3"
  },
  "language_info": {
   "codemirror_mode": {
    "name": "ipython",
    "version": 3
   },
   "file_extension": ".py",
   "mimetype": "text/x-python",
   "name": "python",
   "nbconvert_exporter": "python",
   "pygments_lexer": "ipython3",
   "version": "3.12.4"
  }
 },
 "nbformat": 4,
 "nbformat_minor": 4
}
