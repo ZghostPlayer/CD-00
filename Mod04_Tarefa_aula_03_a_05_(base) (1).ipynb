{
 "cells": [
  {
   "cell_type": "markdown",
   "metadata": {
    "id": "njUvbhQmC8-t"
   },
   "source": [
    "## Exercício 1: Vestibular\n",
    "\n",
    "Considere que a os dados gerados na célula abaixo contêm o número de acertos de 100 alunos em um vestibular para um curso de exatas, divididas pelos respectivos assuntos. Considere que cada assunto possui um número de questões conforme a tabela abaixo:\n",
    "\n",
    "| assunto | número de questões |\n",
    "|:---:|:---:|\n",
    "| Matemática | 24 |\n",
    "| Português | 18 |\n",
    "| Geografia | 8 |\n",
    "| Inglês | 8 |\n",
    "| História | 8 |\n",
    "| Física | 12 |\n",
    "| Química | 12 |\n",
    "\n",
    "Usando os comandos de operações com DataFrames que você aprendeu na Aula 03, calcule:\n",
    "\n",
    "1. (operações com escalar) Calcule o percentual de acerto dos alunos por assunto.  \n",
    "2. (operações entre *DataFrames) Calcule o total de acertos de cada aluno.  \n",
    "3. Calcule o porcentual geral de cada aluno.  \n",
    "4. Suponha que a nota de corte para a segunda fase seja 45. Quantos alunos tiveram nota maior que 45?  "
   ]
  },
  {
   "cell_type": "code",
   "execution_count": 221,
   "metadata": {
    "id": "Ll6TadxCC8-y"
   },
   "outputs": [],
   "source": [
    "import pandas as pd\n",
    "import numpy as np\n",
    "\n",
    "np.random.seed(42)\n",
    "df_mat = pd.DataFrame(np.random.randint(24, size=(100, 1)), columns=['Qt_acertos'])\n",
    "\n",
    "df_por = pd.DataFrame(np.random.randint(18, size=(100, 1)), columns=['Qt_acertos'])\n",
    "\n",
    "df_geo = pd.DataFrame(np.random.randint(8, size=(100, 1)), columns=['Qt_acertos'])\n",
    "\n",
    "df_ing = pd.DataFrame(np.random.randint(8, size=(100, 1)), columns=['Qt_acertos'])\n",
    "\n",
    "df_his = pd.DataFrame(np.random.randint(8, size=(100, 1)), columns=['Qt_acertos'])\n",
    "\n",
    "df_fis = pd.DataFrame(np.random.randint(12, size=(100, 1)), columns=['Qt_acertos'])\n",
    "\n",
    "df_qui = pd.DataFrame(np.random.randint(12, size=(100, 1)), columns=['Qt_acertos'])"
   ]
  },
  {
   "cell_type": "code",
   "execution_count": 222,
   "metadata": {
    "id": "JVmLXiC2C8-0"
   },
   "outputs": [
    {
     "name": "stdout",
     "output_type": "stream",
     "text": [
      "Percentual de acertos em Matemática:\n",
      "   Qt_acertos  Percentual\n",
      "0           6   25.000000\n",
      "1          19   79.166667\n",
      "2          14   58.333333\n",
      "3          10   41.666667\n",
      "4           7   29.166667\n",
      "\n",
      "Percentual de acertos em Português:\n",
      "   Qt_acertos  Percentual\n",
      "0           7   38.888889\n",
      "1          10   55.555556\n",
      "2          16   88.888889\n",
      "3           7   38.888889\n",
      "4           2   11.111111\n",
      "\n",
      "Percentual de acertos em Geografia:\n",
      "   Qt_acertos  Percentual\n",
      "0           7        87.5\n",
      "1           0         0.0\n",
      "2           0         0.0\n",
      "3           3        37.5\n",
      "4           2        25.0\n",
      "\n",
      "Percentual de acertos em Inglês:\n",
      "   Qt_acertos  Percentual\n",
      "0           3        37.5\n",
      "1           0         0.0\n",
      "2           5        62.5\n",
      "3           4        50.0\n",
      "4           7        87.5\n",
      "\n",
      "Percentual de acertos em História:\n",
      "   Qt_acertos  Percentual\n",
      "0           1        12.5\n",
      "1           0         0.0\n",
      "2           7        87.5\n",
      "3           0         0.0\n",
      "4           0         0.0\n",
      "\n",
      "Percentual de acertos em Física:\n",
      "   Qt_acertos  Percentual\n",
      "0           8   66.666667\n",
      "1          11   91.666667\n",
      "2           4   33.333333\n",
      "3           0    0.000000\n",
      "4           9   75.000000\n",
      "\n",
      "Percentual de acertos em Química:\n",
      "   Qt_acertos  Percentual\n",
      "0           3   25.000000\n",
      "1           8   66.666667\n",
      "2           4   33.333333\n",
      "3           8   66.666667\n",
      "4           3   25.000000\n"
     ]
    }
   ],
   "source": [
    "# 1) Seu código aqui\n",
    "total_questoes = {\n",
    "    'matematica': 24,\n",
    "    'portugues': 18,\n",
    "    'geografia': 8,\n",
    "    'ingles': 8,\n",
    "    'historia': 8,\n",
    "    'fisica': 12,\n",
    "    'quimica': 12\n",
    "}\n",
    "\n",
    "df_mat['Percentual'] = (df_mat['Qt_acertos'] / total_questoes['matematica']) * 100\n",
    "df_por['Percentual'] = (df_por['Qt_acertos'] / total_questoes['portugues']) * 100\n",
    "df_geo['Percentual'] = (df_geo['Qt_acertos'] / total_questoes['geografia']) * 100\n",
    "df_ing['Percentual'] = (df_ing['Qt_acertos'] / total_questoes['ingles']) * 100\n",
    "df_his['Percentual'] = (df_his['Qt_acertos'] / total_questoes['historia']) * 100\n",
    "df_fis['Percentual'] = (df_fis['Qt_acertos'] / total_questoes['fisica']) * 100\n",
    "df_qui['Percentual'] = (df_qui['Qt_acertos'] / total_questoes['quimica']) * 100\n",
    "\n",
    "# Mostra o resultado\n",
    "print(\"Percentual de acertos em Matemática:\")\n",
    "print(df_mat.head())\n",
    "\n",
    "print(\"\\nPercentual de acertos em Português:\")\n",
    "print(df_por.head())\n",
    "\n",
    "print(\"\\nPercentual de acertos em Geografia:\")\n",
    "print(df_geo.head())\n",
    "\n",
    "print(\"\\nPercentual de acertos em Inglês:\")\n",
    "print(df_ing.head())\n",
    "\n",
    "print(\"\\nPercentual de acertos em História:\")\n",
    "print(df_his.head())\n",
    "\n",
    "print(\"\\nPercentual de acertos em Física:\")\n",
    "print(df_fis.head())\n",
    "\n",
    "print(\"\\nPercentual de acertos em Química:\")\n",
    "print(df_qui.head())\n",
    "\n"
   ]
  },
  {
   "cell_type": "code",
   "execution_count": 223,
   "metadata": {
    "id": "JbTwCyNHC8-1"
   },
   "outputs": [
    {
     "name": "stdout",
     "output_type": "stream",
     "text": [
      "Total de acertos de cada aluno:\n",
      "    Total_acertos\n",
      "0              35\n",
      "1              48\n",
      "2              50\n",
      "3              32\n",
      "4              30\n",
      "5              50\n",
      "6              29\n",
      "7              49\n",
      "8              58\n",
      "9              39\n",
      "10             31\n",
      "11             43\n",
      "12             42\n",
      "13             21\n",
      "14             31\n",
      "15             40\n",
      "16             30\n",
      "17             52\n",
      "18             50\n",
      "19             37\n",
      "20             53\n",
      "21             36\n",
      "22             26\n",
      "23             26\n",
      "24             50\n",
      "25             27\n",
      "26             40\n",
      "27             50\n",
      "28             39\n",
      "29             44\n",
      "30             36\n",
      "31             54\n",
      "32             32\n",
      "33             39\n",
      "34             45\n",
      "35             48\n",
      "36             56\n",
      "37             52\n",
      "38             36\n",
      "39             49\n",
      "40             47\n",
      "41             37\n",
      "42             48\n",
      "43             26\n",
      "44             43\n",
      "45             48\n",
      "46             34\n",
      "47             36\n",
      "48             55\n",
      "49             19\n",
      "50             43\n",
      "51             42\n",
      "52             41\n",
      "53             45\n",
      "54             37\n",
      "55             41\n",
      "56             39\n",
      "57             40\n",
      "58             27\n",
      "59             40\n"
     ]
    }
   ],
   "source": [
    "# 2) Seu código aqui\n",
    "# Certifica-se de que todos os DataFrames têm o mesmo índice\n",
    "df_mat.index = df_por.index = df_geo.index = df_ing.index = df_his.index = df_fis.index = df_qui.index = range(100)\n",
    "\n",
    "# Calcula o total de acertos de cada aluno\n",
    "df_total_acertos = pd.DataFrame({\n",
    "    'Total_acertos': (df_mat['Qt_acertos'] + \n",
    "                      df_por['Qt_acertos'] + \n",
    "                      df_geo['Qt_acertos'] + \n",
    "                      df_ing['Qt_acertos'] + \n",
    "                      df_his['Qt_acertos'] + \n",
    "                      df_fis['Qt_acertos'] + \n",
    "                      df_qui['Qt_acertos'])\n",
    "})\n",
    "\n",
    "# Mostra o resultado\n",
    "print(\"Total de acertos de cada aluno:\")\n",
    "print(df_total_acertos.head(60))"
   ]
  },
  {
   "cell_type": "code",
   "execution_count": 224,
   "metadata": {
    "id": "c2L8dJkVC8-3"
   },
   "outputs": [
    {
     "name": "stdout",
     "output_type": "stream",
     "text": [
      "Percentual geral de acertos de cada aluno:\n",
      "   Total_acertos  Percentual_geral\n",
      "0             35         38.888889\n",
      "1             48         53.333333\n",
      "2             50         55.555556\n",
      "3             32         35.555556\n",
      "4             30         33.333333\n"
     ]
    }
   ],
   "source": [
    "# 3) Seu código aqui\n",
    "total_questoes_geral = sum(total_questoes.values())\n",
    "\n",
    "# Calcula o percentual geral de acerto de cada aluno\n",
    "df_total_acertos['Percentual_geral'] = (df_total_acertos['Total_acertos'] / total_questoes_geral) * 100\n",
    "\n",
    "# Mostra o resultado\n",
    "print(\"Percentual geral de acertos de cada aluno:\")\n",
    "print(df_total_acertos.head())"
   ]
  },
  {
   "cell_type": "code",
   "execution_count": 225,
   "metadata": {
    "id": "PZTZ7DFzC8-3"
   },
   "outputs": [
    {
     "name": "stdout",
     "output_type": "stream",
     "text": [
      "Número de alunos com percentual geral maior que 45: 47\n"
     ]
    }
   ],
   "source": [
    "# 4) Seu código aqui\n",
    "# Define a nota de corte\n",
    "nota_de_corte = 45\n",
    "\n",
    "# Conta quantos alunos tiveram percentual maior que a nota de corte\n",
    "alunos_acima_nota_de_corte = df_total_acertos[df_total_acertos['Percentual_geral'] > nota_de_corte]\n",
    "\n",
    "# Mostra o número de alunos com nota maior que 45\n",
    "numero_alunos_acima_nota_de_corte = alunos_acima_nota_de_corte.shape[0]\n",
    "print(f\"Número de alunos com percentual geral maior que {nota_de_corte}: {numero_alunos_acima_nota_de_corte}\")"
   ]
  },
  {
   "cell_type": "markdown",
   "metadata": {
    "id": "Hlfl75XXC8-4"
   },
   "source": [
    "## 2) Vestibular II\n",
    "\n",
    "Ainda sobre o mesmo banco de dados:\n",
    "\n",
    "1. Neste vestibular, quem 'zera' em matemática, física ou química está desqualificado. Monte um novo *DataFrame* com os alunos desqualificados por este critério.\n",
    "2. Quantos são esses alunos?\n",
    "3. Qual a média desses alunos em história e geografia?\n",
    "4. Monte um *DataFrame* com os alunos que passaram para a segunda fase. Repare que estes alunos não podem ter sido desqualificados."
   ]
  },
  {
   "cell_type": "code",
   "execution_count": 227,
   "metadata": {
    "id": "hPaMGXvJC8-4"
   },
   "outputs": [
    {
     "name": "stdout",
     "output_type": "stream",
     "text": [
      "\n",
      "Alunos desqualificados:\n",
      "    Matematica  Portugues  Geografia  Ingles  Historia  Fisica  Quimica\n",
      "3           10          7          3       4         0       0        8\n",
      "6            6          0          7       7         5       0        4\n",
      "10          10          8          3       2         1       7        0\n",
      "12          20          8          3       7         1       0        3\n",
      "14           7         11          1       7         1       4        0\n",
      "20          23         11          6       5         6       2        0\n",
      "25           0          4          7       4         0       4        8\n",
      "26          11         14          6       2         7       0        0\n",
      "27          21         13          1       5         7       3        0\n",
      "33          14          8          0       5         6       6        0\n",
      "35          11         14          6       3         3       0       11\n",
      "49           8          1          1       0         1       0        8\n",
      "56           7          6          7       5         6       0        8\n",
      "65           1          8          2       4         3       0        6\n",
      "66           5          4          3       6         3       0       10\n",
      "72          11         16          3       4         7       0        9\n",
      "73           1         16          2       4         3       0       11\n",
      "74           9         11          0       7         5       7        0\n",
      "84          15          1          0       5         1       0        4\n",
      "89          23         11          7       7         6       9        0\n",
      "92          14         10          1       6         1       8        0\n",
      "94           0          5          2       6         1       3        8\n",
      "98           0         10          3       1         5      10       11\n"
     ]
    }
   ],
   "source": [
    "# seu código aqui\n",
    "# Cria um novo DataFrame que combina os acertos\n",
    "df_acertos = pd.DataFrame({\n",
    "    'Matematica': df_mat['Qt_acertos'],\n",
    "    'Portugues': df_por['Qt_acertos'],\n",
    "    'Geografia': df_geo['Qt_acertos'],\n",
    "    'Ingles': df_ing['Qt_acertos'],\n",
    "    'Historia': df_his['Qt_acertos'],\n",
    "    'Fisica': df_fis['Qt_acertos'],\n",
    "    'Quimica': df_qui['Qt_acertos']\n",
    "})\n",
    "\n",
    "# Identifica os alunos desqualificados (zeraram em matemática, física ou química)\n",
    "df_desqualificados = df_acertos[(df_acertos['Matematica'] == 0) |\n",
    "                                (df_acertos['Fisica'] == 0) |\n",
    "                                (df_acertos['Quimica'] == 0)]\n",
    "\n",
    "# Mostra o DataFrame com os alunos desqualificados\n",
    "print(\"\\nAlunos desqualificados:\")\n",
    "print(df_desqualificados)"
   ]
  },
  {
   "cell_type": "code",
   "execution_count": 228,
   "metadata": {},
   "outputs": [
    {
     "name": "stdout",
     "output_type": "stream",
     "text": [
      "Número de alunos desqualificados: 23\n"
     ]
    }
   ],
   "source": [
    "# Conta o número de alunos desqualificados\n",
    "numero_desqualificados = df_desqualificados.shape[0]\n",
    "print(f\"Número de alunos desqualificados: {numero_desqualificados}\")"
   ]
  },
  {
   "cell_type": "code",
   "execution_count": 229,
   "metadata": {},
   "outputs": [
    {
     "name": "stdout",
     "output_type": "stream",
     "text": [
      "Média de acertos em História dos alunos desqualificados: 3.43\n",
      "Média de acertos em Geografia dos alunos desqualificados: 3.22\n"
     ]
    }
   ],
   "source": [
    "# Calcula a média das notas em História e Geografia para os alunos desqualificados\n",
    "media_historia = df_desqualificados['Historia'].mean()\n",
    "media_geografia = df_desqualificados['Geografia'].mean()\n",
    "\n",
    "# Exibe os resultados\n",
    "print(f\"Média de acertos em História dos alunos desqualificados: {media_historia:.2f}\")\n",
    "print(f\"Média de acertos em Geografia dos alunos desqualificados: {media_geografia:.2f}\")"
   ]
  },
  {
   "cell_type": "code",
   "execution_count": 230,
   "metadata": {},
   "outputs": [
    {
     "name": "stdout",
     "output_type": "stream",
     "text": [
      "Número de alunos que passaram para a segunda fase: 77\n",
      "\n",
      "Alunos que passaram para a segunda fase:\n",
      "    Matematica  Portugues  Geografia  Ingles  Historia  Fisica  Quimica\n",
      "0            6          7          7       3         1       8        3\n",
      "1           19         10          0       0         0      11        8\n",
      "2           14         16          0       5         7       4        4\n",
      "4            7          2          2       7         0       9        3\n",
      "5           20          2          5       3         2       9        9\n",
      "..         ...        ...        ...     ...       ...     ...      ...\n",
      "93          12         16          5       5         6       6        6\n",
      "95           6          4          7       1         4       9        3\n",
      "96           8          1          4       6         1       4        3\n",
      "97          23          5          0       2         4       1        5\n",
      "99          11         15          0       1         6       7        2\n",
      "\n",
      "[77 rows x 7 columns]\n"
     ]
    }
   ],
   "source": [
    "# Identifica os alunos que passaram para a segunda fase (não desqualificados)\n",
    "df_passaram_para_segunda_fase = df_acertos[~df_acertos.index.isin(df_desqualificados.index)]\n",
    "\n",
    "# Mostra o número de alunos que passaram para a segunda fase\n",
    "numero_passaram_para_segunda_fase = df_passaram_para_segunda_fase.shape[0]\n",
    "print(f\"Número de alunos que passaram para a segunda fase: {numero_passaram_para_segunda_fase}\")\n",
    "\n",
    "# Mostra o DataFrame com os alunos que passaram para a segunda fase\n",
    "print(\"\\nAlunos que passaram para a segunda fase:\")\n",
    "print(df_passaram_para_segunda_fase)"
   ]
  },
  {
   "cell_type": "markdown",
   "metadata": {
    "id": "EGBUWpAHC8-5"
   },
   "source": [
    "## 3) Vacinações no Acre\n",
    "Vamos trabalhar agora com a base de vacinações no Acre. Para facilitar a sua vida, copiamos o link do arquivo na célula abaixo.\n",
    "\n",
    "1. Quantas vacinas estão registradas nessa base?  \n",
    "2. Quantos pacientes foram vacinados? (considere um paciente para cada valor único de ```paciente_id```)  \n",
    "3. Quantos pacientes únicos tomaram a primeira dose? OBS: Há um caractere especial neste campo. Receba os valores do campo com o método ```.unique()```.   \n",
    "4. Quantos pacientes com menos de 18 anos foram vacinados?  \n",
    "5. Quantos estabelecimentos aplicaram vacina no Acre?\n",
    "\n",
    "\n",
    "**OBS:** O portal do DATASUS pode apresentar instabilidades, retornando um erro na segunda célula abaixo. Por este motivo está disponível uma base estática, que se for baixada para o seu *working directory* pode ser lida com este comando: ```df = pd.read_csv('registros de vacinacao covid ACRE.csv', sep=';')```.\n",
    "\n",
    "**OBS2:** Para saber qual é o seu working directory, rode no jupyter: ```!pwd```."
   ]
  },
  {
   "cell_type": "code",
   "execution_count": 232,
   "metadata": {
    "id": "ET4r139hC8-5"
   },
   "outputs": [],
   "source": [
    "arquivo = 'https://s3.sa-east-1.amazonaws.com/ckan.saude.gov.br/SIPNI/COVID/uf/uf%3DAC/part-00000-a7a1fee2-f534-4285-b454-69e40199e32a.c000.csv'"
   ]
  },
  {
   "cell_type": "code",
   "execution_count": 233,
   "metadata": {
    "id": "SC9YMWLSC8-6"
   },
   "outputs": [
    {
     "name": "stdout",
     "output_type": "stream",
     "text": [
      "Número de vacinas registradas: 388546\n"
     ]
    }
   ],
   "source": [
    "# 1) Sua solução aqui\n",
    "# Carregar o arquivo CSV\n",
    "data = pd.read_csv('registro_vacinacao_covid_AC.csv', sep=';')\n",
    "\n",
    "# Verificar o número de registros\n",
    "num_vaccines = len(data)\n",
    "print(f'Número de vacinas registradas: {num_vaccines}')"
   ]
  },
  {
   "cell_type": "code",
   "execution_count": 234,
   "metadata": {},
   "outputs": [
    {
     "data": {
      "text/html": [
       "<div>\n",
       "<style scoped>\n",
       "    .dataframe tbody tr th:only-of-type {\n",
       "        vertical-align: middle;\n",
       "    }\n",
       "\n",
       "    .dataframe tbody tr th {\n",
       "        vertical-align: top;\n",
       "    }\n",
       "\n",
       "    .dataframe thead th {\n",
       "        text-align: right;\n",
       "    }\n",
       "</style>\n",
       "<table border=\"1\" class=\"dataframe\">\n",
       "  <thead>\n",
       "    <tr style=\"text-align: right;\">\n",
       "      <th></th>\n",
       "      <th>document_id</th>\n",
       "      <th>paciente_id</th>\n",
       "      <th>paciente_idade</th>\n",
       "      <th>paciente_dataNascimento</th>\n",
       "      <th>paciente_enumSexoBiologico</th>\n",
       "      <th>paciente_racaCor_codigo</th>\n",
       "      <th>paciente_racaCor_valor</th>\n",
       "      <th>paciente_endereco_coIbgeMunicipio</th>\n",
       "      <th>paciente_endereco_coPais</th>\n",
       "      <th>paciente_endereco_nmMunicipio</th>\n",
       "      <th>...</th>\n",
       "      <th>vacina_categoria_codigo</th>\n",
       "      <th>vacina_categoria_nome</th>\n",
       "      <th>vacina_lote</th>\n",
       "      <th>vacina_fabricante_nome</th>\n",
       "      <th>vacina_fabricante_referencia</th>\n",
       "      <th>vacina_dataAplicacao</th>\n",
       "      <th>vacina_descricao_dose</th>\n",
       "      <th>vacina_codigo</th>\n",
       "      <th>vacina_nome</th>\n",
       "      <th>sistema_origem</th>\n",
       "    </tr>\n",
       "  </thead>\n",
       "  <tbody>\n",
       "    <tr>\n",
       "      <th>0</th>\n",
       "      <td>2bc20649-78d2-4591-82bb-86a8f650609e-i0b0</td>\n",
       "      <td>021144fac5170523bd6db4890823f854fd560f4ba40308...</td>\n",
       "      <td>24</td>\n",
       "      <td>1998-07-29</td>\n",
       "      <td>M</td>\n",
       "      <td>3</td>\n",
       "      <td>PARDA</td>\n",
       "      <td>120040.0</td>\n",
       "      <td>10.0</td>\n",
       "      <td>RIO BRANCO</td>\n",
       "      <td>...</td>\n",
       "      <td>8.0</td>\n",
       "      <td>Trabalhadores da Educação</td>\n",
       "      <td>224VCD087W</td>\n",
       "      <td>ASTRAZENECA/FIOCRUZ</td>\n",
       "      <td>149</td>\n",
       "      <td>2022-12-12</td>\n",
       "      <td>2º Reforço</td>\n",
       "      <td>85</td>\n",
       "      <td>COVID-19 ASTRAZENECA/FIOCRUZ - COVISHIELD</td>\n",
       "      <td>Novo PNI</td>\n",
       "    </tr>\n",
       "    <tr>\n",
       "      <th>1</th>\n",
       "      <td>fa786361-9ef7-4e1f-903a-682cc0a7943e-i0b0</td>\n",
       "      <td>09805aad6ca9445e2c713e7f9296e69438ea89541c1fb6...</td>\n",
       "      <td>24</td>\n",
       "      <td>1997-09-01</td>\n",
       "      <td>F</td>\n",
       "      <td>4</td>\n",
       "      <td>AMARELA</td>\n",
       "      <td>120020.0</td>\n",
       "      <td>10.0</td>\n",
       "      <td>CRUZEIRO DO SUL</td>\n",
       "      <td>...</td>\n",
       "      <td>2.0</td>\n",
       "      <td>Faixa Etária</td>\n",
       "      <td>217VCD239Z</td>\n",
       "      <td>ASTRAZENECA/FIOCRUZ</td>\n",
       "      <td>Organization/33781055000135</td>\n",
       "      <td>2021-09-13</td>\n",
       "      <td>2ª Dose</td>\n",
       "      <td>85</td>\n",
       "      <td>COVID-19 ASTRAZENECA/FIOCRUZ - COVISHIELD</td>\n",
       "      <td>Novo PNI</td>\n",
       "    </tr>\n",
       "    <tr>\n",
       "      <th>2</th>\n",
       "      <td>31f07816-3d93-428b-9258-f50aff2f6689-i0b0</td>\n",
       "      <td>9d4e386c7faa6520679bdb227b1aa1c1f078f2689de1be...</td>\n",
       "      <td>26</td>\n",
       "      <td>1995-01-11</td>\n",
       "      <td>M</td>\n",
       "      <td>2</td>\n",
       "      <td>PRETA</td>\n",
       "      <td>120040.0</td>\n",
       "      <td>10.0</td>\n",
       "      <td>RIO BRANCO</td>\n",
       "      <td>...</td>\n",
       "      <td>2.0</td>\n",
       "      <td>Faixa Etária</td>\n",
       "      <td>FA9094</td>\n",
       "      <td>PFIZER</td>\n",
       "      <td>Organization/00394544000851</td>\n",
       "      <td>2021-07-24</td>\n",
       "      <td>1ª Dose</td>\n",
       "      <td>87</td>\n",
       "      <td>COVID-19 PFIZER - COMIRNATY</td>\n",
       "      <td>Novo PNI</td>\n",
       "    </tr>\n",
       "    <tr>\n",
       "      <th>3</th>\n",
       "      <td>fab14dfb-fea2-4f53-979f-597bf363ba4e-i0b0</td>\n",
       "      <td>e33acea084ff11941d6ac6bbbbe742ee17aa0c0034568d...</td>\n",
       "      <td>60</td>\n",
       "      <td>1961-02-11</td>\n",
       "      <td>M</td>\n",
       "      <td>3</td>\n",
       "      <td>PARDA</td>\n",
       "      <td>120017.0</td>\n",
       "      <td>10.0</td>\n",
       "      <td>CAPIXABA</td>\n",
       "      <td>...</td>\n",
       "      <td>2.0</td>\n",
       "      <td>Faixa Etária</td>\n",
       "      <td>210077</td>\n",
       "      <td>SINOVAC/BUTANTAN</td>\n",
       "      <td>Organization/61189445000156</td>\n",
       "      <td>2021-04-08</td>\n",
       "      <td>1ª Dose</td>\n",
       "      <td>86</td>\n",
       "      <td>COVID-19 SINOVAC/BUTANTAN - CORONAVAC</td>\n",
       "      <td>Novo PNI</td>\n",
       "    </tr>\n",
       "    <tr>\n",
       "      <th>4</th>\n",
       "      <td>eedcf2ac-b593-4130-ab7a-2a42969cc93f-i0b0</td>\n",
       "      <td>ab708de1dda42bf238b978943dfd3a8526e6583811224a...</td>\n",
       "      <td>10</td>\n",
       "      <td>2012-03-04</td>\n",
       "      <td>M</td>\n",
       "      <td>3</td>\n",
       "      <td>PARDA</td>\n",
       "      <td>120032.0</td>\n",
       "      <td>10.0</td>\n",
       "      <td>JORDAO</td>\n",
       "      <td>...</td>\n",
       "      <td>NaN</td>\n",
       "      <td>NaN</td>\n",
       "      <td>B202106077</td>\n",
       "      <td>SINOVAC/BUTANTAN</td>\n",
       "      <td>Organization/152</td>\n",
       "      <td>2022-04-18</td>\n",
       "      <td>2ª Dose</td>\n",
       "      <td>86</td>\n",
       "      <td>COVID-19 SINOVAC/BUTANTAN - CORONAVAC</td>\n",
       "      <td>Novo PNI</td>\n",
       "    </tr>\n",
       "  </tbody>\n",
       "</table>\n",
       "<p>5 rows × 32 columns</p>\n",
       "</div>"
      ],
      "text/plain": [
       "                                 document_id  \\\n",
       "0  2bc20649-78d2-4591-82bb-86a8f650609e-i0b0   \n",
       "1  fa786361-9ef7-4e1f-903a-682cc0a7943e-i0b0   \n",
       "2  31f07816-3d93-428b-9258-f50aff2f6689-i0b0   \n",
       "3  fab14dfb-fea2-4f53-979f-597bf363ba4e-i0b0   \n",
       "4  eedcf2ac-b593-4130-ab7a-2a42969cc93f-i0b0   \n",
       "\n",
       "                                         paciente_id  paciente_idade  \\\n",
       "0  021144fac5170523bd6db4890823f854fd560f4ba40308...              24   \n",
       "1  09805aad6ca9445e2c713e7f9296e69438ea89541c1fb6...              24   \n",
       "2  9d4e386c7faa6520679bdb227b1aa1c1f078f2689de1be...              26   \n",
       "3  e33acea084ff11941d6ac6bbbbe742ee17aa0c0034568d...              60   \n",
       "4  ab708de1dda42bf238b978943dfd3a8526e6583811224a...              10   \n",
       "\n",
       "  paciente_dataNascimento paciente_enumSexoBiologico  paciente_racaCor_codigo  \\\n",
       "0              1998-07-29                          M                        3   \n",
       "1              1997-09-01                          F                        4   \n",
       "2              1995-01-11                          M                        2   \n",
       "3              1961-02-11                          M                        3   \n",
       "4              2012-03-04                          M                        3   \n",
       "\n",
       "  paciente_racaCor_valor  paciente_endereco_coIbgeMunicipio  \\\n",
       "0                  PARDA                           120040.0   \n",
       "1                AMARELA                           120020.0   \n",
       "2                  PRETA                           120040.0   \n",
       "3                  PARDA                           120017.0   \n",
       "4                  PARDA                           120032.0   \n",
       "\n",
       "   paciente_endereco_coPais paciente_endereco_nmMunicipio  ...  \\\n",
       "0                      10.0                    RIO BRANCO  ...   \n",
       "1                      10.0               CRUZEIRO DO SUL  ...   \n",
       "2                      10.0                    RIO BRANCO  ...   \n",
       "3                      10.0                      CAPIXABA  ...   \n",
       "4                      10.0                        JORDAO  ...   \n",
       "\n",
       "  vacina_categoria_codigo      vacina_categoria_nome  vacina_lote  \\\n",
       "0                     8.0  Trabalhadores da Educação   224VCD087W   \n",
       "1                     2.0               Faixa Etária   217VCD239Z   \n",
       "2                     2.0               Faixa Etária       FA9094   \n",
       "3                     2.0               Faixa Etária       210077   \n",
       "4                     NaN                        NaN   B202106077   \n",
       "\n",
       "  vacina_fabricante_nome  vacina_fabricante_referencia vacina_dataAplicacao  \\\n",
       "0    ASTRAZENECA/FIOCRUZ                           149           2022-12-12   \n",
       "1    ASTRAZENECA/FIOCRUZ   Organization/33781055000135           2021-09-13   \n",
       "2                 PFIZER   Organization/00394544000851           2021-07-24   \n",
       "3       SINOVAC/BUTANTAN   Organization/61189445000156           2021-04-08   \n",
       "4       SINOVAC/BUTANTAN              Organization/152           2022-04-18   \n",
       "\n",
       "  vacina_descricao_dose  vacina_codigo  \\\n",
       "0            2º Reforço             85   \n",
       "1               2ª Dose             85   \n",
       "2               1ª Dose             87   \n",
       "3               1ª Dose             86   \n",
       "4               2ª Dose             86   \n",
       "\n",
       "                                 vacina_nome sistema_origem  \n",
       "0  COVID-19 ASTRAZENECA/FIOCRUZ - COVISHIELD       Novo PNI  \n",
       "1  COVID-19 ASTRAZENECA/FIOCRUZ - COVISHIELD       Novo PNI  \n",
       "2                COVID-19 PFIZER - COMIRNATY       Novo PNI  \n",
       "3      COVID-19 SINOVAC/BUTANTAN - CORONAVAC       Novo PNI  \n",
       "4      COVID-19 SINOVAC/BUTANTAN - CORONAVAC       Novo PNI  \n",
       "\n",
       "[5 rows x 32 columns]"
      ]
     },
     "execution_count": 234,
     "metadata": {},
     "output_type": "execute_result"
    }
   ],
   "source": [
    "data.head(5)"
   ]
  },
  {
   "cell_type": "code",
   "execution_count": 235,
   "metadata": {
    "id": "PMztY1RlC8-7"
   },
   "outputs": [
    {
     "name": "stdout",
     "output_type": "stream",
     "text": [
      "Número de pacientes vacinados: 317427\n"
     ]
    }
   ],
   "source": [
    "# 2)\n",
    "# Contar o número de pacientes únicos\n",
    "num_patients = data['paciente_id'].nunique()\n",
    "print(f'Número de pacientes vacinados: {num_patients}')"
   ]
  },
  {
   "cell_type": "code",
   "execution_count": 236,
   "metadata": {
    "id": "V_wr--3JC8-7"
   },
   "outputs": [
    {
     "name": "stdout",
     "output_type": "stream",
     "text": [
      "Número de pacientes únicos que tomaram a primeira dose: 143457\n"
     ]
    }
   ],
   "source": [
    "# 3)\n",
    "\n",
    "# Filtrar os registros para incluir apenas a primeira dose\n",
    "first_dose_data = data[data['vacina_descricao_dose'] == '1ª Dose']\n",
    "\n",
    "# Contar o número de pacientes únicos que tomaram a primeira dose\n",
    "num_patients_first_dose = first_dose_data['paciente_id'].nunique()\n",
    "print(f'Número de pacientes únicos que tomaram a primeira dose: {num_patients_first_dose}')"
   ]
  },
  {
   "cell_type": "code",
   "execution_count": 237,
   "metadata": {
    "id": "SPHgIxtcC8-7"
   },
   "outputs": [
    {
     "name": "stdout",
     "output_type": "stream",
     "text": [
      "Número de pacientes únicos que tomaram a primeira dose: 143457\n"
     ]
    }
   ],
   "source": [
    "# 3) solução alternativa\n",
    "\n",
    "# Identificar o valor correto da primeira dose\n",
    "first_dose_value = '1ª Dose'\n",
    "\n",
    "# Filtrar o DataFrame para incluir apenas a primeira dose\n",
    "first_dose_data = data[data['vacina_descricao_dose'].str.strip() == first_dose_value]\n",
    "\n",
    "# Obter o número de pacientes únicos que tomaram a primeira dose\n",
    "unique_patients = np.unique(first_dose_data['paciente_id'])\n",
    "num_patients_first_dose = len(unique_patients)\n",
    "\n",
    "print(f'Número de pacientes únicos que tomaram a primeira dose: {num_patients_first_dose}')"
   ]
  },
  {
   "cell_type": "code",
   "execution_count": 238,
   "metadata": {
    "id": "S6ab9ExEC8-7"
   },
   "outputs": [
    {
     "name": "stdout",
     "output_type": "stream",
     "text": [
      "Número de pacientes com menos de 18 anos que foram vacinados: 68888\n"
     ]
    }
   ],
   "source": [
    "# 4)\n",
    "# Filtrar os dados para incluir apenas pacientes com menos de 18 anos\n",
    "under_18_data = data[data['paciente_idade'] < 18]\n",
    "\n",
    "# Contar o número de pacientes únicos que têm menos de 18 anos\n",
    "unique_patients_under_18 = np.unique(under_18_data['paciente_id'])\n",
    "num_patients_under_18 = len(unique_patients_under_18)\n",
    "\n",
    "print(f'Número de pacientes com menos de 18 anos que foram vacinados: {num_patients_under_18}')"
   ]
  },
  {
   "cell_type": "code",
   "execution_count": 239,
   "metadata": {
    "id": "PVrY_-qlC8-8"
   },
   "outputs": [
    {
     "name": "stdout",
     "output_type": "stream",
     "text": [
      "Número de estabelecimentos que aplicaram vacina no Acre: 235\n"
     ]
    }
   ],
   "source": [
    "# 5)\n",
    "# Contar o número de estabelecimentos únicos que aplicaram vacinas\n",
    "num_establishments = data['estalecimento_noFantasia'].nunique()\n",
    "print(f'Número de estabelecimentos que aplicaram vacina no Acre: {num_establishments}')"
   ]
  },
  {
   "cell_type": "markdown",
   "metadata": {
    "id": "LH1LSYvGC8-8"
   },
   "source": [
    "## 4) Vacinação II\n",
    "Gere um *DataFrame* que contenha somente os estabelecimentos que aplicaram vcinas a menores de 18 anos. Nesse *DataFrame* devem conter somente os dados dos estabelecimentos, mais uma coluna sendo a quantidade de vacinas que o estabelecimento aplicou a menores de 18 anos.  \n",
    "  \n",
    "1. crie uma cópia do *DataFrame* original, contendo somente os registros de vacinas realizadas a menores de 18 anos.  \n",
    "2. crie uma lista das colunas desse *DataFrame* com o atributo de *DataFrame* **.columns()**  \n",
    "3. Nesse *DataFrame* faça uma contagem do campo ```vacina_categoria_nome```.\n",
    "3. a partir da lista de colunas, escolha somente aquelas que são referentes ao estabelecimento, faça uma lista com esses valores.  \n",
    "4. usando o método *.loc*, selecione somente essas variáveis  \n",
    "5. Aplique o método **.drop_duplicates** e crie uma lista com uma linha para cada estabelecimento, com os dados do estabelecimento  "
   ]
  },
  {
   "cell_type": "code",
   "execution_count": 241,
   "metadata": {
    "id": "3ojs12vUC8-8"
   },
   "outputs": [
    {
     "name": "stdout",
     "output_type": "stream",
     "text": [
      "Cópia do DataFrame contendo somente registros de vacinas realizadas a menores de 18 anos criada com sucesso.\n"
     ]
    }
   ],
   "source": [
    "# 1)\n",
    "# Filtrar o DataFrame para incluir apenas registros de vacinas realizadas em menores de 18 anos\n",
    "under_18_data = data[data['paciente_idade'] < 18]\n",
    "\n",
    "# Criar uma cópia do DataFrame filtrado\n",
    "under_18_data_copy = under_18_data.copy()\n",
    "\n",
    "# Opcional: salvar a cópia em um novo arquivo CSV\n",
    "under_18_data_copy.to_csv('vacinas_menores_de_18.csv', index=False)\n",
    "\n",
    "print(\"Cópia do DataFrame contendo somente registros de vacinas realizadas a menores de 18 anos criada com sucesso.\")"
   ]
  },
  {
   "cell_type": "code",
   "execution_count": 242,
   "metadata": {
    "id": "sLyevPRBC8-8"
   },
   "outputs": [
    {
     "name": "stdout",
     "output_type": "stream",
     "text": [
      "Lista das colunas do DataFrame:\n",
      "['document_id', 'paciente_id', 'paciente_idade', 'paciente_dataNascimento', 'paciente_enumSexoBiologico', 'paciente_racaCor_codigo', 'paciente_racaCor_valor', 'paciente_endereco_coIbgeMunicipio', 'paciente_endereco_coPais', 'paciente_endereco_nmMunicipio', 'paciente_endereco_nmPais', 'paciente_endereco_uf', 'paciente_endereco_cep', 'paciente_nacionalidade_enumNacionalidade', 'estabelecimento_valor', 'estabelecimento_razaoSocial', 'estalecimento_noFantasia', 'estabelecimento_municipio_codigo', 'estabelecimento_municipio_nome', 'estabelecimento_uf', 'vacina_grupoAtendimento_codigo', 'vacina_grupoAtendimento_nome', 'vacina_categoria_codigo', 'vacina_categoria_nome', 'vacina_lote', 'vacina_fabricante_nome', 'vacina_fabricante_referencia', 'vacina_dataAplicacao', 'vacina_descricao_dose', 'vacina_codigo', 'vacina_nome', 'sistema_origem']\n"
     ]
    }
   ],
   "source": [
    "# 2)\n",
    "# Obter a lista das colunas do DataFrame\n",
    "novo_arquivo = 'vacinas_menores_de_18.csv'\n",
    "data = pd.read_csv(novo_arquivo)\n",
    "\n",
    "# Obter a lista das colunas do DataFrame\n",
    "columns_list = data.columns.tolist()\n",
    "\n",
    "print(\"Lista das colunas do DataFrame:\")\n",
    "print(columns_list)"
   ]
  },
  {
   "cell_type": "code",
   "execution_count": 243,
   "metadata": {
    "id": "lZAW-Dp8C8-8"
   },
   "outputs": [
    {
     "name": "stdout",
     "output_type": "stream",
     "text": [
      "Contagem dos valores na coluna 'vacina_categoria_nome':\n",
      "vacina_categoria_nome\n",
      "Faixa Etária                                      48096\n",
      "Povos Indígenas                                    4746\n",
      "Outros                                             3755\n",
      "Povos e Comunidades Tradicionais                    874\n",
      "Trabalhadores de Saúde                              264\n",
      "Comorbidades                                         57\n",
      "População Privada de Liberdade                       53\n",
      "Gestantes                                            44\n",
      "Trabalhadores da Educação                            14\n",
      "Trabalhadores de Transporte                          13\n",
      "Pessoas com Deficiência                              11\n",
      "Pessoas Institucionalizadas                           3\n",
      "Pessoas de 60 anos ou mais institucionalizadas        1\n",
      "Puérperas                                             1\n",
      "Name: count, dtype: int64\n"
     ]
    }
   ],
   "source": [
    "# 3)\n",
    "# Contar a frequência de cada valor na coluna 'vacina_categoria_nome'\n",
    "vacina_categoria_counts = data['vacina_categoria_nome'].value_counts()\n",
    "\n",
    "print(\"Contagem dos valores na coluna 'vacina_categoria_nome':\")\n",
    "print(vacina_categoria_counts)"
   ]
  },
  {
   "cell_type": "code",
   "execution_count": 245,
   "metadata": {
    "id": "xxYsxrxAC8-8"
   },
   "outputs": [
    {
     "name": "stdout",
     "output_type": "stream",
     "text": [
      "Colunas referentes a estabelecimentos:\n",
      "['estabelecimento_valor', 'estabelecimento_razaoSocial', 'estalecimento_noFantasia', 'estabelecimento_municipio_codigo', 'estabelecimento_municipio_nome', 'estabelecimento_uf']\n"
     ]
    }
   ],
   "source": [
    "# 4)\n",
    "\n",
    "# Obter a lista das colunas do DataFrame\n",
    "columns_list = data.columns.tolist()\n",
    "\n",
    "# Definir palavras-chave que podem indicar colunas relacionadas a estabelecimentos\n",
    "establishment_keywords = ['estabelecimento_valor', 'estabelecimento_razaoSocial',\n",
    "                          'estalecimento_noFantasia', 'estabelecimento_municipio_codigo', \n",
    "                          'estabelecimento_municipio_nome', 'estabelecimento_uf']\n",
    "\n",
    "# Ajustar palavras-chave para o formato da lista de colunas\n",
    "# Converter todos os nomes de colunas e palavras-chave para minúsculas para a comparação\n",
    "columns_lower = [col.lower() for col in columns_list]\n",
    "keywords_lower = [keyword.lower() for keyword in establishment_keywords]\n",
    "\n",
    "# Filtrar as colunas que correspondem às palavras-chave\n",
    "establishment_columns = [col for col in columns_list if col.lower() in keywords_lower]\n",
    "\n",
    "print(\"Colunas referentes a estabelecimentos:\")\n",
    "print(establishment_columns)"
   ]
  },
  {
   "cell_type": "code",
   "execution_count": 246,
   "metadata": {
    "id": "vaX2x_0rC8-8"
   },
   "outputs": [
    {
     "name": "stdout",
     "output_type": "stream",
     "text": [
      "DataFrame com colunas referentes a estabelecimentos:\n",
      "   estabelecimento_valor                  estabelecimento_razaoSocial  \\\n",
      "0                5354072               PREFEITURA MUNICIPAL DE JORDAO   \n",
      "1                2000407               PREFEITURA MUNICIPAL DE XAPURI   \n",
      "2                2001772  PREFEITURA MUNICIPAL DE SANTA ROSA DO PURUS   \n",
      "3                6159087      PREFEITURA MUNICIPAL DE CRUZEIRO DO SUL   \n",
      "4                6917291           PREFEITURA MUNICIPAL DE RIO BRANCO   \n",
      "\n",
      "                            estalecimento_noFantasia  \\\n",
      "0  UNIDADE DE SAUDE DA FAMILIA ANTONIO RODRIGUES ...   \n",
      "1  UNIDADE DE SAUDE DA FAMILIA DR FELIX BESTENE NETO   \n",
      "2              CENTRO DE SAUDE PAULO ALCIONE MARQUES   \n",
      "3   SECRETARIA MUNICIPAL DE SAUDE DE CRUZEIRO DO SUL   \n",
      "4  DEPARTAMENTO DE VIGILANCIA EPIDEMIOLOGICA E AM...   \n",
      "\n",
      "   estabelecimento_municipio_codigo estabelecimento_municipio_nome  \\\n",
      "0                            120032                         JORDAO   \n",
      "1                            120070                         XAPURI   \n",
      "2                            120043            SANTA ROSA DO PURUS   \n",
      "3                            120020                CRUZEIRO DO SUL   \n",
      "4                            120040                     RIO BRANCO   \n",
      "\n",
      "  estabelecimento_uf  \n",
      "0                 AC  \n",
      "1                 AC  \n",
      "2                 AC  \n",
      "3                 AC  \n",
      "4                 AC  \n"
     ]
    }
   ],
   "source": [
    "# 5)\n",
    "# Selecionar somente essas colunas usando .loc\n",
    "# Usar ':' para selecionar todas as linhas\n",
    "establishment_data = data.loc[:, establishment_columns]\n",
    "\n",
    "print(\"DataFrame com colunas referentes a estabelecimentos:\")\n",
    "print(establishment_data.head())  # Exibir as primeiras linhas do DataFrame resultante"
   ]
  },
  {
   "cell_type": "code",
   "execution_count": 247,
   "metadata": {},
   "outputs": [
    {
     "name": "stdout",
     "output_type": "stream",
     "text": [
      "Lista de dados únicos dos estabelecimentos:\n",
      "[{'estabelecimento_valor': 5354072, 'estabelecimento_razaoSocial': 'PREFEITURA MUNICIPAL DE JORDAO', 'estalecimento_noFantasia': 'UNIDADE DE SAUDE DA FAMILIA ANTONIO RODRIGUES DOURADO', 'estabelecimento_municipio_codigo': 120032, 'estabelecimento_municipio_nome': 'JORDAO', 'estabelecimento_uf': 'AC'}, {'estabelecimento_valor': 2000407, 'estabelecimento_razaoSocial': 'PREFEITURA MUNICIPAL DE XAPURI', 'estalecimento_noFantasia': 'UNIDADE DE SAUDE DA FAMILIA DR FELIX BESTENE NETO', 'estabelecimento_municipio_codigo': 120070, 'estabelecimento_municipio_nome': 'XAPURI', 'estabelecimento_uf': 'AC'}, {'estabelecimento_valor': 2001772, 'estabelecimento_razaoSocial': 'PREFEITURA MUNICIPAL DE SANTA ROSA DO PURUS', 'estalecimento_noFantasia': 'CENTRO DE SAUDE PAULO ALCIONE MARQUES', 'estabelecimento_municipio_codigo': 120043, 'estabelecimento_municipio_nome': 'SANTA ROSA DO PURUS', 'estabelecimento_uf': 'AC'}, {'estabelecimento_valor': 6159087, 'estabelecimento_razaoSocial': 'PREFEITURA MUNICIPAL DE CRUZEIRO DO SUL', 'estalecimento_noFantasia': 'SECRETARIA MUNICIPAL DE SAUDE DE CRUZEIRO DO SUL', 'estabelecimento_municipio_codigo': 120020, 'estabelecimento_municipio_nome': 'CRUZEIRO DO SUL', 'estabelecimento_uf': 'AC'}, {'estabelecimento_valor': 6917291, 'estabelecimento_razaoSocial': 'PREFEITURA MUNICIPAL DE RIO BRANCO', 'estalecimento_noFantasia': 'DEPARTAMENTO DE VIGILANCIA EPIDEMIOLOGICA E AMBIENTAL', 'estabelecimento_municipio_codigo': 120040, 'estabelecimento_municipio_nome': 'RIO BRANCO', 'estabelecimento_uf': 'AC'}, {'estabelecimento_valor': 2000806, 'estabelecimento_razaoSocial': 'MUNICIPIO DE RIO BRANCO', 'estalecimento_noFantasia': 'USF DOUTOR MARIO MAIA', 'estabelecimento_municipio_codigo': 120040, 'estabelecimento_municipio_nome': 'RIO BRANCO', 'estabelecimento_uf': 'AC'}, {'estabelecimento_valor': 2001217, 'estabelecimento_razaoSocial': 'PREFEITURA MUNICIPAL DE XAPURI', 'estalecimento_noFantasia': 'UNIDADE SAUDE DA FAMILIA JOSE FADUL', 'estabelecimento_municipio_codigo': 120070, 'estabelecimento_municipio_nome': 'XAPURI', 'estabelecimento_uf': 'AC'}, {'estabelecimento_valor': 3541592, 'estabelecimento_razaoSocial': 'PREFEITURA MUNICIPAL DE SENA MADUREIRA', 'estalecimento_noFantasia': 'UNIDADE BASICA DE SAUDE MARIA DAS DORES DE PAULA', 'estabelecimento_municipio_codigo': 120050, 'estabelecimento_municipio_nome': 'SENA MADUREIRA', 'estabelecimento_uf': 'AC'}, {'estabelecimento_valor': 6308740, 'estabelecimento_razaoSocial': 'DISTRITO SANITARIO ESPECIAL INDIGENA ALTO RIO JURUA', 'estalecimento_noFantasia': 'POLO BASE DE PORTO WALTER', 'estabelecimento_municipio_codigo': 120039, 'estabelecimento_municipio_nome': 'PORTO WALTER', 'estabelecimento_uf': 'AC'}, {'estabelecimento_valor': 2002876, 'estabelecimento_razaoSocial': 'SECRETARIA MUNCIPAL DE SAUDE', 'estalecimento_noFantasia': 'CENTRO DE SAUDE RAIMUNDA PORFIRIO DE BRITO RAMOS', 'estabelecimento_municipio_codigo': 120013, 'estabelecimento_municipio_nome': 'BUJARI', 'estabelecimento_uf': 'AC'}, {'estabelecimento_valor': 3810771, 'estabelecimento_razaoSocial': 'PREFEITURA MUNICIPAL DE TARAUACA', 'estalecimento_noFantasia': 'UNIDADE DE S DA FAMILIA DR JOSE LEONCIO GOMES RODRIGUES', 'estabelecimento_municipio_codigo': 120060, 'estabelecimento_municipio_nome': 'TARAUACA', 'estabelecimento_uf': 'AC'}, {'estabelecimento_valor': 6992811, 'estabelecimento_razaoSocial': 'PREFEITURA MUNICIPAL DE SENA MADUREIRA', 'estalecimento_noFantasia': 'UNIDADE BASICA DE SAUDE MANOEL FERNANDES VIEIRA', 'estabelecimento_municipio_codigo': 120050, 'estabelecimento_municipio_nome': 'SENA MADUREIRA', 'estabelecimento_uf': 'AC'}, {'estabelecimento_valor': 2000016, 'estabelecimento_razaoSocial': 'PREFEITURA MUNICIPAL DE RODRIGUES ALVES', 'estalecimento_noFantasia': 'UNIDADE BASICA PADRE TEODORO ARNDS', 'estabelecimento_municipio_codigo': 120042, 'estabelecimento_municipio_nome': 'RODRIGUES ALVES', 'estabelecimento_uf': 'AC'}, {'estabelecimento_valor': 2001748, 'estabelecimento_razaoSocial': 'PREFEITURA MUNICIPAL DE PORTO WALTER', 'estalecimento_noFantasia': 'UBS VICENTE VARELA DE ALMEIDA', 'estabelecimento_municipio_codigo': 120039, 'estabelecimento_municipio_nome': 'PORTO WALTER', 'estabelecimento_uf': 'AC'}, {'estabelecimento_valor': 2000040, 'estabelecimento_razaoSocial': 'PREFEITURA MUNICIPAL DE FEIJO', 'estalecimento_noFantasia': 'CENTRO DE SAUDE DIAMANTINO MACEDO', 'estabelecimento_municipio_codigo': 120030, 'estabelecimento_municipio_nome': 'FEIJO', 'estabelecimento_uf': 'AC'}, {'estabelecimento_valor': 6430201, 'estabelecimento_razaoSocial': 'DISTRITO SANITARIO ESPECIAL INDIGENA ALTO JURUA', 'estalecimento_noFantasia': 'POLO BASE INDIGENA', 'estabelecimento_municipio_codigo': 120032, 'estabelecimento_municipio_nome': 'JORDAO', 'estabelecimento_uf': 'AC'}, {'estabelecimento_valor': 2000660, 'estabelecimento_razaoSocial': 'PREFEITURA MUNICIPAL DE SENADOR GUIOMARD', 'estalecimento_noFantasia': 'CENTRO DE SAUDE MARIA DO SOCORRO CAVALCANTE', 'estabelecimento_municipio_codigo': 120045, 'estabelecimento_municipio_nome': 'SENADOR GUIOMARD', 'estabelecimento_uf': 'AC'}, {'estabelecimento_valor': 6612385, 'estabelecimento_razaoSocial': 'POLO BASE DE TARAUACA', 'estalecimento_noFantasia': 'UNIDADE ASSISTENCIAL A SAUDE INDIGENA DE TARAUACA POLO BASE', 'estabelecimento_municipio_codigo': 120060, 'estabelecimento_municipio_nome': 'TARAUACA', 'estabelecimento_uf': 'AC'}, {'estabelecimento_valor': 2000601, 'estabelecimento_razaoSocial': 'PREFEITURA MUNICIPAL DE CRUZEIRO DO SUL', 'estalecimento_noFantasia': 'UNIDADE DE SAUDE DA FAMILIA MANOEL RODRIGUES DE ARAUJO', 'estabelecimento_municipio_codigo': 120020, 'estabelecimento_municipio_nome': 'CRUZEIRO DO SUL', 'estabelecimento_uf': 'AC'}, {'estabelecimento_valor': 3015483, 'estabelecimento_razaoSocial': 'PREFEITURA MUNICIPAL DE RIO BRANCO', 'estalecimento_noFantasia': 'USF ANTENOR RAMOS II', 'estabelecimento_municipio_codigo': 120040, 'estabelecimento_municipio_nome': 'RIO BRANCO', 'estabelecimento_uf': 'AC'}, {'estabelecimento_valor': 2002299, 'estabelecimento_razaoSocial': 'PREFEITURA MUNICIPAL DE CRUZEIRO DO SUL', 'estalecimento_noFantasia': 'UNIDADE DE SAUDE ADALTO JOSE BATISTA', 'estabelecimento_municipio_codigo': 120020, 'estabelecimento_municipio_nome': 'CRUZEIRO DO SUL', 'estabelecimento_uf': 'AC'}, {'estabelecimento_valor': 6917682, 'estabelecimento_razaoSocial': 'DISTRITO SANITARIO ESPECIAL INDIGENA ALTO RIO JURUA', 'estalecimento_noFantasia': 'POLO BASE DE CRUZEIRO DO SUL', 'estabelecimento_municipio_codigo': 120020, 'estabelecimento_municipio_nome': 'CRUZEIRO DO SUL', 'estabelecimento_uf': 'AC'}, {'estabelecimento_valor': 2000954, 'estabelecimento_razaoSocial': 'PREFEITURA MUNICIPAL DE MANUEL URBANO', 'estalecimento_noFantasia': 'UNIDADE DE SAUDE INACIO RIBEIRO DA SILVA', 'estabelecimento_municipio_codigo': 120034, 'estabelecimento_municipio_nome': 'MANOEL URBANO', 'estabelecimento_uf': 'AC'}, {'estabelecimento_valor': 2000105, 'estabelecimento_razaoSocial': 'PREFEITURA MUNICIPAL DE MANCIO LIMA', 'estalecimento_noFantasia': 'U S F QUINTINO RIO BRANCO LEBRE', 'estabelecimento_municipio_codigo': 120033, 'estabelecimento_municipio_nome': 'MANCIO LIMA', 'estabelecimento_uf': 'AC'}, {'estabelecimento_valor': 2001314, 'estabelecimento_razaoSocial': 'PREFEITURA MUNICIPAL DE EPITACIOLANDIA', 'estalecimento_noFantasia': 'ESF JOAO ALVES DA SILVA', 'estabelecimento_municipio_codigo': 120025, 'estabelecimento_municipio_nome': 'EPITACIOLANDIA', 'estabelecimento_uf': 'AC'}, {'estabelecimento_valor': 3006166, 'estabelecimento_razaoSocial': 'PREFEITURA MUNICIPAL DE ACRELANDIA', 'estalecimento_noFantasia': 'UNIDADE DE SAUDE DA FAMILIA NORTON VITORINO BOHEN', 'estabelecimento_municipio_codigo': 120001, 'estabelecimento_municipio_nome': 'ACRELANDIA', 'estabelecimento_uf': 'AC'}, {'estabelecimento_valor': 2000059, 'estabelecimento_razaoSocial': 'PREFEITURA MUNICIPAL DE FEIJO', 'estalecimento_noFantasia': 'U S F MARIA ALICE', 'estabelecimento_municipio_codigo': 120030, 'estabelecimento_municipio_nome': 'FEIJO', 'estabelecimento_uf': 'AC'}, {'estabelecimento_valor': 3797554, 'estabelecimento_razaoSocial': 'PREFEITURA MUNICIPAL DE ASSIS BRASIL', 'estalecimento_noFantasia': 'UNIDADE BASICA DE SAUDE ANTONIO ALVES CAVALCANTE', 'estabelecimento_municipio_codigo': 120005, 'estabelecimento_municipio_nome': 'ASSIS BRASIL', 'estabelecimento_uf': 'AC'}, {'estabelecimento_valor': 6289312, 'estabelecimento_razaoSocial': 'DISTRITO SANITARIO ESPECIAL INDIGENA ALTO RIO PURUS', 'estalecimento_noFantasia': 'POLO BASE DE SANTA ROSA DO PURUS', 'estabelecimento_municipio_codigo': 120043, 'estabelecimento_municipio_nome': 'SANTA ROSA DO PURUS', 'estabelecimento_uf': 'AC'}, {'estabelecimento_valor': 2001101, 'estabelecimento_razaoSocial': 'PREFEITURA MUNICIPAL DE PORTO ACRE', 'estalecimento_noFantasia': 'UNIDADE DE SAUDE DA FAMILIA RAIMUNDA BITENCOURT DA SILVA', 'estabelecimento_municipio_codigo': 120080, 'estabelecimento_municipio_nome': 'PORTO ACRE', 'estabelecimento_uf': 'AC'}, {'estabelecimento_valor': 6428940, 'estabelecimento_razaoSocial': 'PREFEITURA MUNICIPAL DE ASSIS BRASIL', 'estalecimento_noFantasia': 'POLO BASE DE ASSIS BRASIL', 'estabelecimento_municipio_codigo': 120005, 'estabelecimento_municipio_nome': 'ASSIS BRASIL', 'estabelecimento_uf': 'AC'}, {'estabelecimento_valor': 2002914, 'estabelecimento_razaoSocial': 'PREFEITURA MUNICIPAL DE CRUZEIRO DO SUL', 'estalecimento_noFantasia': 'UNIDADE SAUDE DA FAMILIA 25 DE AGOSTO', 'estabelecimento_municipio_codigo': 120020, 'estabelecimento_municipio_nome': 'CRUZEIRO DO SUL', 'estabelecimento_uf': 'AC'}, {'estabelecimento_valor': 7436440, 'estabelecimento_razaoSocial': 'PREFEITURA MUNICIPAL DE ASSIS BRASIL', 'estalecimento_noFantasia': 'UNIDADE BASICA DE SAUDE GILDO FERREIRA DA SILVA', 'estabelecimento_municipio_codigo': 120005, 'estabelecimento_municipio_nome': 'ASSIS BRASIL', 'estabelecimento_uf': 'AC'}, {'estabelecimento_valor': 2001306, 'estabelecimento_razaoSocial': 'MUNICIPIO DE RIO BRANCO', 'estalecimento_noFantasia': 'URAP DRA CLAUDIA VITORINO', 'estabelecimento_municipio_codigo': 120040, 'estabelecimento_municipio_nome': 'RIO BRANCO', 'estabelecimento_uf': 'AC'}, {'estabelecimento_valor': 468363, 'estabelecimento_razaoSocial': 'REDE DE FRIOS', 'estalecimento_noFantasia': 'REDE DE FRIOS', 'estabelecimento_municipio_codigo': 120033, 'estabelecimento_municipio_nome': 'MANCIO LIMA', 'estabelecimento_uf': 'AC'}, {'estabelecimento_valor': 5981891, 'estabelecimento_razaoSocial': 'PREFEITURA MUNICIIPAL DE SENA MADUREIRA', 'estalecimento_noFantasia': 'UNIDADE BASICA DE SAUDE MODULO I', 'estabelecimento_municipio_codigo': 120050, 'estabelecimento_municipio_nome': 'SENA MADUREIRA', 'estabelecimento_uf': 'AC'}, {'estabelecimento_valor': 924490, 'estabelecimento_razaoSocial': 'PREFEITURA MUNICIPAL DE FEIJO', 'estalecimento_noFantasia': 'UNIDADE MOVEL DE SAUDE FLUVIAL PEDRO RODRIGUES CAVALCANTE', 'estabelecimento_municipio_codigo': 120030, 'estabelecimento_municipio_nome': 'FEIJO', 'estabelecimento_uf': 'AC'}, {'estabelecimento_valor': 2000482, 'estabelecimento_razaoSocial': 'PREFEITURA MUNICIPAL DE RIO BRANCO', 'estalecimento_noFantasia': 'URAP VILA IVONETE', 'estabelecimento_municipio_codigo': 120040, 'estabelecimento_municipio_nome': 'RIO BRANCO', 'estabelecimento_uf': 'AC'}, {'estabelecimento_valor': 2001039, 'estabelecimento_razaoSocial': 'PREFEITURA MUNICIPAL DE CAPIXABA', 'estalecimento_noFantasia': 'UNIDADE DE SAUDE DA FAMILIA DR LUIZ FERNANDO MAGALHAES', 'estabelecimento_municipio_codigo': 120017, 'estabelecimento_municipio_nome': 'CAPIXABA', 'estabelecimento_uf': 'AC'}, {'estabelecimento_valor': 2000547, 'estabelecimento_razaoSocial': 'PREFEITURA MUNICIPAL DE CRUZEIRO DO SUL', 'estalecimento_noFantasia': 'UNIDADE DE SAUDE DA FAMILIA LUIZ GONZAGA', 'estabelecimento_municipio_codigo': 120020, 'estabelecimento_municipio_nome': 'CRUZEIRO DO SUL', 'estabelecimento_uf': 'AC'}, {'estabelecimento_valor': 6748759, 'estabelecimento_razaoSocial': 'DISTRITO SANITARIO ESPECIAL INDIGENA ALTO RIO JURUA', 'estalecimento_noFantasia': 'POLO BASE DE FEIJO', 'estabelecimento_municipio_codigo': 120030, 'estabelecimento_municipio_nome': 'FEIJO', 'estabelecimento_uf': 'AC'}, {'estabelecimento_valor': 2000741, 'estabelecimento_razaoSocial': 'MUNICIPIO DE RIO BRANCO', 'estalecimento_noFantasia': 'URAP ARY RODRIGUES', 'estabelecimento_municipio_codigo': 120040, 'estabelecimento_municipio_nome': 'RIO BRANCO', 'estabelecimento_uf': 'AC'}, {'estabelecimento_valor': 2002922, 'estabelecimento_razaoSocial': 'SECRETARIA MUNICIPAL DE SAUDE', 'estalecimento_noFantasia': 'U S F JOAO DE DEUS', 'estabelecimento_municipio_codigo': 120038, 'estabelecimento_municipio_nome': 'PLACIDO DE CASTRO', 'estabelecimento_uf': 'AC'}, {'estabelecimento_valor': 2001225, 'estabelecimento_razaoSocial': 'PREFEITURA MUNICIPAL DE XAPURI', 'estalecimento_noFantasia': 'UNIDADE DE SAUDE DA FAMILIA JOSE FRANCISCO SILVA', 'estabelecimento_municipio_codigo': 120070, 'estabelecimento_municipio_nome': 'XAPURI', 'estabelecimento_uf': 'AC'}, {'estabelecimento_valor': 2001349, 'estabelecimento_razaoSocial': 'PREFEITURA MUNICIPAL DE BRASILEIA', 'estalecimento_noFantasia': 'ESF TUFIC MIZAEL SAADY', 'estabelecimento_municipio_codigo': 120010, 'estabelecimento_municipio_nome': 'BRASILEIA', 'estabelecimento_uf': 'AC'}, {'estabelecimento_valor': 2000342, 'estabelecimento_razaoSocial': 'PREFEITURA MUNICIPAL DE CRUZEIRO DO SUL', 'estalecimento_noFantasia': 'UNIDADE DE SAUDE DA FAMILIA ABEL PINHEIRO', 'estabelecimento_municipio_codigo': 120020, 'estabelecimento_municipio_nome': 'CRUZEIRO DO SUL', 'estabelecimento_uf': 'AC'}, {'estabelecimento_valor': 7247435, 'estabelecimento_razaoSocial': 'PREFEITURA MUNICIPAL DE SAUDE', 'estalecimento_noFantasia': 'UNIDADE DE SAUDE DA FAMILIA RAIMUNDO CELSO LIMA VERDE', 'estabelecimento_municipio_codigo': 120020, 'estabelecimento_municipio_nome': 'CRUZEIRO DO SUL', 'estabelecimento_uf': 'AC'}, {'estabelecimento_valor': 9463208, 'estabelecimento_razaoSocial': 'MUNICIPIO DE RIO BRANCO', 'estalecimento_noFantasia': 'USF FRANCISCO CARNEIRO TIO CHICO', 'estabelecimento_municipio_codigo': 120040, 'estabelecimento_municipio_nome': 'RIO BRANCO', 'estabelecimento_uf': 'AC'}, {'estabelecimento_valor': 2000156, 'estabelecimento_razaoSocial': 'PREFEITURA MUNICIPAL DE TARAUACA', 'estalecimento_noFantasia': 'UNIDADE BASICA DE SAUDE JOAO WANDERLEI', 'estabelecimento_municipio_codigo': 120060, 'estabelecimento_municipio_nome': 'TARAUACA', 'estabelecimento_uf': 'AC'}, {'estabelecimento_valor': 6697151, 'estabelecimento_razaoSocial': 'MINISTERIO DA SAUDE', 'estalecimento_noFantasia': 'DISTRITO SANITARIO ESPECIAL INDIGENA ALTO PURUS', 'estabelecimento_municipio_codigo': 120050, 'estabelecimento_municipio_nome': 'SENA MADUREIRA', 'estabelecimento_uf': 'AC'}, {'estabelecimento_valor': 3959082, 'estabelecimento_razaoSocial': 'SECRETARIA DE ESTADO DE SAUDE', 'estalecimento_noFantasia': 'UNIDADE MISTA DE SANTA LUZIA', 'estabelecimento_municipio_codigo': 120020, 'estabelecimento_municipio_nome': 'CRUZEIRO DO SUL', 'estabelecimento_uf': 'AC'}, {'estabelecimento_valor': 837822, 'estabelecimento_razaoSocial': 'MUNICIPIO DE MANCIO LIMA', 'estalecimento_noFantasia': 'UBS MARIA RODRIGUES DE MATOS', 'estabelecimento_municipio_codigo': 120033, 'estabelecimento_municipio_nome': 'MANCIO LIMA', 'estabelecimento_uf': 'AC'}, {'estabelecimento_valor': 2000571, 'estabelecimento_razaoSocial': 'PREFEITURA MUNICIPAL DE CRUZEIRO DO SUL', 'estalecimento_noFantasia': 'UNIDADE DE SAUDE DA FAMILIA GERALDO MAIA', 'estabelecimento_municipio_codigo': 120020, 'estabelecimento_municipio_nome': 'CRUZEIRO DO SUL', 'estabelecimento_uf': 'AC'}, {'estabelecimento_valor': 2002132, 'estabelecimento_razaoSocial': 'PREFEITURA MUN DE MAL THAUMATURGO', 'estalecimento_noFantasia': 'ESF RIBEIRINHA DR NALDIR MARIANO', 'estabelecimento_municipio_codigo': 120035, 'estabelecimento_municipio_nome': 'MARECHAL THAUMATURGO', 'estabelecimento_uf': 'AC'}, {'estabelecimento_valor': 6955525, 'estabelecimento_razaoSocial': 'DISTRITO SANITARIO ESPECIAL INDIGENA ALTO RIO JURUA', 'estalecimento_noFantasia': 'POLO BASE DE MANCIO LIMA', 'estabelecimento_municipio_codigo': 120033, 'estabelecimento_municipio_nome': 'MANCIO LIMA', 'estabelecimento_uf': 'AC'}, {'estabelecimento_valor': 2000962, 'estabelecimento_razaoSocial': 'PREFEITURA MUNICIPAL DE MANUEL URBANO', 'estalecimento_noFantasia': 'UNIDADE DE SAUDE JOSEFA NUNES', 'estabelecimento_municipio_codigo': 120034, 'estabelecimento_municipio_nome': 'MANOEL URBANO', 'estabelecimento_uf': 'AC'}, {'estabelecimento_valor': 3323293, 'estabelecimento_razaoSocial': 'PREFEITURA MUNICIPAL DE PORTO ACRE', 'estalecimento_noFantasia': 'UNIDADE DE SAUDE DA FAMILIA DANIEL GLENDSON DE LUCENA', 'estabelecimento_municipio_codigo': 120080, 'estabelecimento_municipio_nome': 'PORTO ACRE', 'estabelecimento_uf': 'AC'}, {'estabelecimento_valor': 2003066, 'estabelecimento_razaoSocial': 'PREFEITURA MUNICIPAL DE ASSIS BRASIL', 'estalecimento_noFantasia': 'UNIDADE BASICA DE SAUDE TEREZINHA BATISTA DOS SANTOS', 'estabelecimento_municipio_codigo': 120005, 'estabelecimento_municipio_nome': 'ASSIS BRASIL', 'estabelecimento_uf': 'AC'}, {'estabelecimento_valor': 5710111, 'estabelecimento_razaoSocial': 'PREFEITURA MUNICIPAL DE CRUZEIRO DO SUL', 'estalecimento_noFantasia': 'UNIDADE DE SAUDE DA FAMILIA NESTOR SOARES DE VASCONCELOS', 'estabelecimento_municipio_codigo': 120020, 'estabelecimento_municipio_nome': 'CRUZEIRO DO SUL', 'estabelecimento_uf': 'AC'}, {'estabelecimento_valor': 899593, 'estabelecimento_razaoSocial': 'MUNICIPIO DE MANCIO LIMA', 'estalecimento_noFantasia': 'UBS LINA BANDEIRA DA ROCHA', 'estabelecimento_municipio_codigo': 120033, 'estabelecimento_municipio_nome': 'MANCIO LIMA', 'estabelecimento_uf': 'AC'}, {'estabelecimento_valor': 2000237, 'estabelecimento_razaoSocial': 'PREFEITURA MUNICIPAL DE CRUZEIRO DO SUL', 'estalecimento_noFantasia': 'UNIDADE DE SAUDE DA FAMILIA J LINS', 'estabelecimento_municipio_codigo': 120020, 'estabelecimento_municipio_nome': 'CRUZEIRO DO SUL', 'estabelecimento_uf': 'AC'}, {'estabelecimento_valor': 2000504, 'estabelecimento_razaoSocial': 'PREFEITURA MUNICIPAL DE PORTO ACRE', 'estalecimento_noFantasia': 'UNIDADE DE SAUDE DA FAMILIA ILDA BARBOSA DE SOUZA', 'estabelecimento_municipio_codigo': 120080, 'estabelecimento_municipio_nome': 'PORTO ACRE', 'estabelecimento_uf': 'AC'}, {'estabelecimento_valor': 7232489, 'estabelecimento_razaoSocial': 'PREFEITURA MUNICIPAL DE SAUDE', 'estalecimento_noFantasia': 'UNIDADE DE SAUDE DA FAMILIA FRANCISCO SOUZA DOS SANTOS', 'estabelecimento_municipio_codigo': 120020, 'estabelecimento_municipio_nome': 'CRUZEIRO DO SUL', 'estabelecimento_uf': 'AC'}, {'estabelecimento_valor': 2000555, 'estabelecimento_razaoSocial': 'PREFEITURA MUNICIPAL DE CRUZEIRO DO SUL', 'estalecimento_noFantasia': 'UNIDADE BASICA DE SAUDE PENTECOSTES', 'estabelecimento_municipio_codigo': 120020, 'estabelecimento_municipio_nome': 'CRUZEIRO DO SUL', 'estabelecimento_uf': 'AC'}, {'estabelecimento_valor': 2000261, 'estabelecimento_razaoSocial': 'PREFEITURA MUNICIPAL DE CRUZEIRO DO SUL', 'estalecimento_noFantasia': 'UNIDADE DE SAUDE DA FAMILIA PROF QUITA', 'estabelecimento_municipio_codigo': 120020, 'estabelecimento_municipio_nome': 'CRUZEIRO DO SUL', 'estabelecimento_uf': 'AC'}, {'estabelecimento_valor': 2002906, 'estabelecimento_razaoSocial': 'PREFEITURA MUNICIPAL DE CAPIXABA', 'estalecimento_noFantasia': 'CENTRO DE SAUDE IDELFONSO CORDEIRO DE ANDRADE', 'estabelecimento_municipio_codigo': 120017, 'estabelecimento_municipio_nome': 'CAPIXABA', 'estabelecimento_uf': 'AC'}, {'estabelecimento_valor': 3449432, 'estabelecimento_razaoSocial': 'PREFEITURA MUNICIPAL DE SENA MADUREIRA', 'estalecimento_noFantasia': 'UNIDADE BASICA DE SAUDE FLORIANO FLORENTINO M DA SILVA', 'estabelecimento_municipio_codigo': 120050, 'estabelecimento_municipio_nome': 'SENA MADUREIRA', 'estabelecimento_uf': 'AC'}, {'estabelecimento_valor': 2000903, 'estabelecimento_razaoSocial': 'PREFEITURA MUNICIPAL DE SENA MADUREIRA', 'estalecimento_noFantasia': 'UNIDADE BASICA DE SAUDE FLORLIRIO PEREIRA LUSTOSA', 'estabelecimento_municipio_codigo': 120050, 'estabelecimento_municipio_nome': 'SENA MADUREIRA', 'estabelecimento_uf': 'AC'}, {'estabelecimento_valor': 2000202, 'estabelecimento_razaoSocial': 'PREFEITURA MUNICIPAL DE CRUZEIRO DO SUL', 'estalecimento_noFantasia': 'UNIDADE DE SAUDE DA FAM SENADOR ADALBERTO SENA', 'estabelecimento_municipio_codigo': 120020, 'estabelecimento_municipio_nome': 'CRUZEIRO DO SUL', 'estabelecimento_uf': 'AC'}, {'estabelecimento_valor': 2000164, 'estabelecimento_razaoSocial': 'PREFEITURA MUNICIPAL DE TARAUACA', 'estalecimento_noFantasia': 'UNIDADE DE SAUDE DA FAMILIA MARIA DA LUZ', 'estabelecimento_municipio_codigo': 120060, 'estabelecimento_municipio_nome': 'TARAUACA', 'estabelecimento_uf': 'AC'}, {'estabelecimento_valor': 7123043, 'estabelecimento_razaoSocial': 'PREFEITURA MUNICIPAL DE JORDAO', 'estalecimento_noFantasia': 'SAUDE DA FAMILIA RIBEIRINHA', 'estabelecimento_municipio_codigo': 120032, 'estabelecimento_municipio_nome': 'JORDAO', 'estabelecimento_uf': 'AC'}, {'estabelecimento_valor': 7139454, 'estabelecimento_razaoSocial': 'PREFEITURA MUNICIPAL DE CRUZEIRO DO SUL', 'estalecimento_noFantasia': 'UNIDADE DE SAUDE DA FAMILIA FLUVIAL MARIETA CAMELI', 'estabelecimento_municipio_codigo': 120020, 'estabelecimento_municipio_nome': 'CRUZEIRO DO SUL', 'estabelecimento_uf': 'AC'}, {'estabelecimento_valor': 7797494, 'estabelecimento_razaoSocial': 'PREFEITURA MUNICIPAL DE FEIJO', 'estalecimento_noFantasia': 'U S F FLORINDA VIEIRA DA COSTA', 'estabelecimento_municipio_codigo': 120030, 'estabelecimento_municipio_nome': 'FEIJO', 'estabelecimento_uf': 'AC'}, {'estabelecimento_valor': 7915241, 'estabelecimento_razaoSocial': 'PREFEITURA MUNICIPAL DE SAUDE', 'estalecimento_noFantasia': 'UNIDADE DE SAUDE DA FAMILIA BOCA DO MOA ARITO ROSAS', 'estabelecimento_municipio_codigo': 120020, 'estabelecimento_municipio_nome': 'CRUZEIRO DO SUL', 'estabelecimento_uf': 'AC'}, {'estabelecimento_valor': 2000598, 'estabelecimento_razaoSocial': 'PREFEITURA MUNICIPAL DE CRUZEIRO DO SUL', 'estalecimento_noFantasia': 'UNIDADE BASICA DE SAUDE GEOVANA MARIA FREITAS DO VALE', 'estabelecimento_municipio_codigo': 120020, 'estabelecimento_municipio_nome': 'CRUZEIRO DO SUL', 'estabelecimento_uf': 'AC'}, {'estabelecimento_valor': 2000415, 'estabelecimento_razaoSocial': 'PREFEITURA MUNICIPAL DE RIO BRANCO', 'estalecimento_noFantasia': 'URAP SAO FRANCISCO', 'estabelecimento_municipio_codigo': 120040, 'estabelecimento_municipio_nome': 'RIO BRANCO', 'estabelecimento_uf': 'AC'}, {'estabelecimento_valor': 2003198, 'estabelecimento_razaoSocial': 'MUNICIPIO DE RIO BRANCO', 'estalecimento_noFantasia': 'URAP MARIA BARROSO DA SILVA', 'estabelecimento_municipio_codigo': 120040, 'estabelecimento_municipio_nome': 'RIO BRANCO', 'estabelecimento_uf': 'AC'}, {'estabelecimento_valor': 3007367, 'estabelecimento_razaoSocial': 'PREFEITURA MUNICIPAL DE SENA MADUREIRA', 'estalecimento_noFantasia': 'UNIDADE BASICA DE SAUDE AGUINALDO NUNES DE OLIVEIRA', 'estabelecimento_municipio_codigo': 120050, 'estabelecimento_municipio_nome': 'SENA MADUREIRA', 'estabelecimento_uf': 'AC'}, {'estabelecimento_valor': 2000873, 'estabelecimento_razaoSocial': 'PREFEITURA MUNICIPAL DE SENA MADUREIRA', 'estalecimento_noFantasia': 'UNIDADE BASICA DE SAUDE EDSON SALES', 'estabelecimento_municipio_codigo': 120050, 'estabelecimento_municipio_nome': 'SENA MADUREIRA', 'estabelecimento_uf': 'AC'}, {'estabelecimento_valor': 9014896, 'estabelecimento_razaoSocial': 'MUNICIPIO DE MARECHAL THAUMATURGO', 'estalecimento_noFantasia': 'USF RAIMUNDO GOMES DE AZEVEDO', 'estabelecimento_municipio_codigo': 120035, 'estabelecimento_municipio_nome': 'MARECHAL THAUMATURGO', 'estabelecimento_uf': 'AC'}, {'estabelecimento_valor': 2000067, 'estabelecimento_razaoSocial': 'PREFEITURA MUNICIPAL DE FEIJO', 'estalecimento_noFantasia': 'U S F FRANCISCA LIMA', 'estabelecimento_municipio_codigo': 120030, 'estabelecimento_municipio_nome': 'FEIJO', 'estabelecimento_uf': 'AC'}, {'estabelecimento_valor': 7147422, 'estabelecimento_razaoSocial': 'SECRETARIA DE ESTADO DE SAUDE', 'estalecimento_noFantasia': 'CENTRO DE REFERENCIA PARA IMUNOBIOLOGICOS ESPECIAIS CRIE', 'estabelecimento_municipio_codigo': 120040, 'estabelecimento_municipio_nome': 'RIO BRANCO', 'estabelecimento_uf': 'AC'}, {'estabelecimento_valor': 2000830, 'estabelecimento_razaoSocial': 'PREFEITURA MUNICIPAL DE RIO BRANCO', 'estalecimento_noFantasia': 'URAP AUGUSTO HIDALGO DE LIMA', 'estabelecimento_municipio_codigo': 120040, 'estabelecimento_municipio_nome': 'RIO BRANCO', 'estabelecimento_uf': 'AC'}, {'estabelecimento_valor': 7375913, 'estabelecimento_razaoSocial': 'PREFEITURA MUNICIPAL DE CRUZEIRO DO SUL', 'estalecimento_noFantasia': 'UNIDADE DE SAUDE DA CLOVIS PINHEIRO ROSAS', 'estabelecimento_municipio_codigo': 120020, 'estabelecimento_municipio_nome': 'CRUZEIRO DO SUL', 'estabelecimento_uf': 'AC'}, {'estabelecimento_valor': 2306379, 'estabelecimento_razaoSocial': 'PREFEITURA MUNICIPAL DE RIO BRANCO', 'estalecimento_noFantasia': 'USF FRANCISCO CONSTANCIO DA SILVA', 'estabelecimento_municipio_codigo': 120040, 'estabelecimento_municipio_nome': 'RIO BRANCO', 'estabelecimento_uf': 'AC'}, {'estabelecimento_valor': 5250587, 'estabelecimento_razaoSocial': 'PREFEITURA MUNICIPAL DE SENADOR GUIOMARD', 'estalecimento_noFantasia': 'CENTRO DE SAUDE ILSON ALVES RIBEIRO', 'estabelecimento_municipio_codigo': 120045, 'estabelecimento_municipio_nome': 'SENADOR GUIOMARD', 'estabelecimento_uf': 'AC'}, {'estabelecimento_valor': 7625855, 'estabelecimento_razaoSocial': 'DISTRITO SANITARIO ESPECIAL INDIGENA ALTO RIO JURUA', 'estalecimento_noFantasia': 'POLO BASE DE MARECHAL THAUMATURGO', 'estabelecimento_municipio_codigo': 120035, 'estabelecimento_municipio_nome': 'MARECHAL THAUMATURGO', 'estabelecimento_uf': 'AC'}, {'estabelecimento_valor': 2002566, 'estabelecimento_razaoSocial': 'PREFEITURA MUNICIPAL DE SENA MADUREIRA', 'estalecimento_noFantasia': 'UNIDADE BASICA DE SAUDE LAURO FONTES DA SILVA', 'estabelecimento_municipio_codigo': 120050, 'estabelecimento_municipio_nome': 'SENA MADUREIRA', 'estabelecimento_uf': 'AC'}, {'estabelecimento_valor': 7036302, 'estabelecimento_razaoSocial': 'DISTRITO SANITARIO ESPECIAL INDIGENA ALTO RIO JURUA', 'estalecimento_noFantasia': 'DISTRITO SANITARIO ESPECIAL INDIGENA ALTO RIO JURUA', 'estabelecimento_municipio_codigo': 120020, 'estabelecimento_municipio_nome': 'CRUZEIRO DO SUL', 'estabelecimento_uf': 'AC'}, {'estabelecimento_valor': 6934013, 'estabelecimento_razaoSocial': 'PREFEITURA MUNICIPAL DE FEIJO', 'estalecimento_noFantasia': 'U S F DR JOSE LUIZ DE SOUZA', 'estabelecimento_municipio_codigo': 120030, 'estabelecimento_municipio_nome': 'FEIJO', 'estabelecimento_uf': 'AC'}, {'estabelecimento_valor': 3901009, 'estabelecimento_razaoSocial': 'PREFEITURA MUNICIPAL DE TARAUACA', 'estalecimento_noFantasia': 'UNIDADE DE SAUDE DA FAMILIA 24 DE ABRIL', 'estabelecimento_municipio_codigo': 120060, 'estabelecimento_municipio_nome': 'TARAUACA', 'estabelecimento_uf': 'AC'}, {'estabelecimento_valor': 2001934, 'estabelecimento_razaoSocial': 'PREFEITURA MUNICIPAL DE XAPURI', 'estalecimento_noFantasia': 'UNIDADE DE SAUDE DA FAMILIA JOSE RAIMUNDO DE MELO', 'estabelecimento_municipio_codigo': 120070, 'estabelecimento_municipio_nome': 'XAPURI', 'estabelecimento_uf': 'AC'}, {'estabelecimento_valor': 3544915, 'estabelecimento_razaoSocial': 'PREFEITURA MUNICIPAL DE FEIJO', 'estalecimento_noFantasia': 'UNIDADE DE SAUDE DA FAMILIA DULCE DE ARAUJO ANDRADE SENA', 'estabelecimento_municipio_codigo': 120030, 'estabelecimento_municipio_nome': 'FEIJO', 'estabelecimento_uf': 'AC'}, {'estabelecimento_valor': 9648968, 'estabelecimento_razaoSocial': 'DISTRITO SANITARIO ESPECIAL DE SAUDE INDIGENA ALTO RIO PURUS', 'estalecimento_noFantasia': 'UNIDADE BASICA DE SAUDE BUACU', 'estabelecimento_municipio_codigo': 120034, 'estabelecimento_municipio_nome': 'MANOEL URBANO', 'estabelecimento_uf': 'AC'}, {'estabelecimento_valor': 2002825, 'estabelecimento_razaoSocial': 'PREFEITURA MUNICIPAL DE FEIJO', 'estalecimento_noFantasia': 'U S F FRANCISCA XAVIER FERREIRA', 'estabelecimento_municipio_codigo': 120030, 'estabelecimento_municipio_nome': 'FEIJO', 'estabelecimento_uf': 'AC'}, {'estabelecimento_valor': 7014147, 'estabelecimento_razaoSocial': 'PREFEITURA MUNICIPAL DE FEIJO', 'estalecimento_noFantasia': 'U S F ANTONIO DOMINGOS RODRIGUES', 'estabelecimento_municipio_codigo': 120030, 'estabelecimento_municipio_nome': 'FEIJO', 'estabelecimento_uf': 'AC'}, {'estabelecimento_valor': 2001713, 'estabelecimento_razaoSocial': 'PREFEITURA MUNICIPAL DE RIO BRANCO', 'estalecimento_noFantasia': 'USF DEUSIMAR PINHEIRO DA SILVA', 'estabelecimento_municipio_codigo': 120040, 'estabelecimento_municipio_nome': 'RIO BRANCO', 'estabelecimento_uf': 'AC'}, {'estabelecimento_valor': 2000075, 'estabelecimento_razaoSocial': 'MUNICIPIO DE RIO BRANCO', 'estalecimento_noFantasia': 'POLICLINICA BARRAL Y BARRAL', 'estabelecimento_municipio_codigo': 120040, 'estabelecimento_municipio_nome': 'RIO BRANCO', 'estabelecimento_uf': 'AC'}, {'estabelecimento_valor': 2000881, 'estabelecimento_razaoSocial': 'PREFEITURA MUNICIPAL DE SENA MADUREIRA', 'estalecimento_noFantasia': 'CENTRO DE ATENDIMENTO PARA ENFRENTAMENTO DA COVID 19', 'estabelecimento_municipio_codigo': 120050, 'estabelecimento_municipio_nome': 'SENA MADUREIRA', 'estabelecimento_uf': 'AC'}, {'estabelecimento_valor': 3331946, 'estabelecimento_razaoSocial': 'PREFEITURA MUNICIPAL DE RIO BRANCO', 'estalecimento_noFantasia': 'USF MARIA SEBASTIANA', 'estabelecimento_municipio_codigo': 120040, 'estabelecimento_municipio_nome': 'RIO BRANCO', 'estabelecimento_uf': 'AC'}, {'estabelecimento_valor': 2002221, 'estabelecimento_razaoSocial': 'PREFEITURA MUNICIPAL MANCIO LIMA', 'estalecimento_noFantasia': 'U S F FRANCISCO ALENCAR', 'estabelecimento_municipio_codigo': 120033, 'estabelecimento_municipio_nome': 'MANCIO LIMA', 'estabelecimento_uf': 'AC'}, {'estabelecimento_valor': 7799632, 'estabelecimento_razaoSocial': 'MUNICIPIO DE RIO BRANCO', 'estalecimento_noFantasia': 'URAP VALDEISA VALDEZ', 'estabelecimento_municipio_codigo': 120040, 'estabelecimento_municipio_nome': 'RIO BRANCO', 'estabelecimento_uf': 'AC'}, {'estabelecimento_valor': 2000326, 'estabelecimento_razaoSocial': 'PREFEITURA MUNICIPAL DE CRUZEIRO DO SUL', 'estalecimento_noFantasia': 'UNIDADE DE SAUDE DA FAMILIA GEOSETE COELHO MARIANO', 'estabelecimento_municipio_codigo': 120020, 'estabelecimento_municipio_nome': 'CRUZEIRO DO SUL', 'estabelecimento_uf': 'AC'}, {'estabelecimento_valor': 9294449, 'estabelecimento_razaoSocial': 'PREFEITURA MUNICIPAL DE SENADOR GUIOMARD', 'estalecimento_noFantasia': 'UNIDADE BASICA DE SAUDE PEDRO RABELO DE LIMA', 'estabelecimento_municipio_codigo': 120045, 'estabelecimento_municipio_nome': 'SENADOR GUIOMARD', 'estabelecimento_uf': 'AC'}, {'estabelecimento_valor': 2002272, 'estabelecimento_razaoSocial': 'PREFEITURA MUNICIPAL DE MANCIO LIMA', 'estalecimento_noFantasia': 'UNIDADE S FAMILIA DR CERQUEIRA', 'estabelecimento_municipio_codigo': 120033, 'estabelecimento_municipio_nome': 'MANCIO LIMA', 'estabelecimento_uf': 'AC'}, {'estabelecimento_valor': 6612385, 'estabelecimento_razaoSocial': 'PREFEITURA MUNICIPAL DE TARAUACA', 'estalecimento_noFantasia': 'UNIDADE ASSISTENCIAL A SAUDE INDIGENA DE TARAUACA POLO BASE', 'estabelecimento_municipio_codigo': 120060, 'estabelecimento_municipio_nome': 'TARAUACA', 'estabelecimento_uf': 'AC'}, {'estabelecimento_valor': 7110065, 'estabelecimento_razaoSocial': 'PREFEITURA MUNICIPAL DE RIO BRANCO', 'estalecimento_noFantasia': 'USF GENTIL PERDOMO DA ROCHA', 'estabelecimento_municipio_codigo': 120040, 'estabelecimento_municipio_nome': 'RIO BRANCO', 'estabelecimento_uf': 'AC'}, {'estabelecimento_valor': 6634230, 'estabelecimento_razaoSocial': 'PREFEITURA MUNICIPAL DE EPITACIOLANDIA', 'estalecimento_noFantasia': 'ESF JOSE PAULO DE SOUZA', 'estabelecimento_municipio_codigo': 120025, 'estabelecimento_municipio_nome': 'EPITACIOLANDIA', 'estabelecimento_uf': 'AC'}, {'estabelecimento_valor': 7561113, 'estabelecimento_razaoSocial': 'PREFEITURA MUNICIPAL DE CRUZEIRO DO SUL', 'estalecimento_noFantasia': 'UNIDADE BASICA DE SAUDE EUCLIDES QUEIROS FILHO', 'estabelecimento_municipio_codigo': 120020, 'estabelecimento_municipio_nome': 'CRUZEIRO DO SUL', 'estabelecimento_uf': 'AC'}, {'estabelecimento_valor': 3015548, 'estabelecimento_razaoSocial': 'PREFEITURA MUNICIPAL DE RIO BRANCO', 'estalecimento_noFantasia': 'USF PLATILDE OLIVEIRA', 'estabelecimento_municipio_codigo': 120040, 'estabelecimento_municipio_nome': 'RIO BRANCO', 'estabelecimento_uf': 'AC'}, {'estabelecimento_valor': 2001748, 'estabelecimento_razaoSocial': 'PREFEITURA MUNICIPAL DE PORTO WALTER', 'estalecimento_noFantasia': 'UBS ESTEPHAN BARBARY', 'estabelecimento_municipio_codigo': 120039, 'estabelecimento_municipio_nome': 'PORTO WALTER', 'estabelecimento_uf': 'AC'}, {'estabelecimento_valor': 6270638, 'estabelecimento_razaoSocial': 'PREFEITURA MUNICIPAL DE CRUZEIRO DO SUL', 'estalecimento_noFantasia': 'UNIDADE DE SAUDE DA FAMILIA FRANCISCO PEREIRA DANTAS', 'estabelecimento_municipio_codigo': 120020, 'estabelecimento_municipio_nome': 'CRUZEIRO DO SUL', 'estabelecimento_uf': 'AC'}, {'estabelecimento_valor': 9315578, 'estabelecimento_razaoSocial': 'MUNICIPIO DE PORTO WALTER', 'estalecimento_noFantasia': 'UBS FRANCISCA DAS CHAGAS LUSTOSA', 'estabelecimento_municipio_codigo': 120039, 'estabelecimento_municipio_nome': 'PORTO WALTER', 'estabelecimento_uf': 'AC'}, {'estabelecimento_valor': 2000334, 'estabelecimento_razaoSocial': 'PREFEITURA MUNICIPAL DE CRUZEIRO DO SUL', 'estalecimento_noFantasia': 'UNIDADE DA SAUDE DA FAM FRANCISCO ARY DA SILVEIRA', 'estabelecimento_municipio_codigo': 120020, 'estabelecimento_municipio_nome': 'CRUZEIRO DO SUL', 'estabelecimento_uf': 'AC'}, {'estabelecimento_valor': 3015521, 'estabelecimento_razaoSocial': 'PREFEITURA MUNICIPAL DE RIO BRANCO', 'estalecimento_noFantasia': 'USF RECANTO DOS BURITIS II', 'estabelecimento_municipio_codigo': 120040, 'estabelecimento_municipio_nome': 'RIO BRANCO', 'estabelecimento_uf': 'AC'}, {'estabelecimento_valor': 2000520, 'estabelecimento_razaoSocial': 'PREFEITURA MUNICIPAL DE RIO BRANCO', 'estalecimento_noFantasia': 'URAP FRANCISCO BACURAU VIEIRA NUNES', 'estabelecimento_municipio_codigo': 120040, 'estabelecimento_municipio_nome': 'RIO BRANCO', 'estabelecimento_uf': 'AC'}, {'estabelecimento_valor': 7818092, 'estabelecimento_razaoSocial': 'MUNICIPIO DE RIO BRANCO', 'estalecimento_noFantasia': 'USF MANOEL BEZERRA', 'estabelecimento_municipio_codigo': 120040, 'estabelecimento_municipio_nome': 'RIO BRANCO', 'estabelecimento_uf': 'AC'}, {'estabelecimento_valor': 2000938, 'estabelecimento_razaoSocial': 'PREFEITURA MUNICIPAL DE SENA MADUREIRA', 'estalecimento_noFantasia': 'UNIDADE BASICA DE SAUDE RICIOTI TAMBURINI', 'estabelecimento_municipio_codigo': 120050, 'estabelecimento_municipio_nome': 'SENA MADUREIRA', 'estabelecimento_uf': 'AC'}, {'estabelecimento_valor': 2000512, 'estabelecimento_razaoSocial': 'PREFEITURA MUNICIPAL DE RIO BRANCO', 'estalecimento_noFantasia': 'URAP EDUARDO ASSMAR', 'estabelecimento_municipio_codigo': 120040, 'estabelecimento_municipio_nome': 'RIO BRANCO', 'estabelecimento_uf': 'AC'}, {'estabelecimento_valor': 2001896, 'estabelecimento_razaoSocial': 'PREFEITURA MUNICIPAL DE CRUZEIRO DO SUL', 'estalecimento_noFantasia': 'UNIDADE DE SAUDE DA FAMILIA JOSE TIMOTIO DE OLIVEIRA', 'estabelecimento_municipio_codigo': 120020, 'estabelecimento_municipio_nome': 'CRUZEIRO DO SUL', 'estabelecimento_uf': 'AC'}, {'estabelecimento_valor': 9542566, 'estabelecimento_razaoSocial': 'PREFEITURA DE MANCIO LIMA', 'estalecimento_noFantasia': 'UBS RAIMUNDO REGINALDO DE ALMEIDA', 'estabelecimento_municipio_codigo': 120033, 'estabelecimento_municipio_nome': 'MANCIO LIMA', 'estabelecimento_uf': 'AC'}, {'estabelecimento_valor': 9648968, 'estabelecimento_razaoSocial': 'DISTRITO SANITARIO ESPECIAL DE SAUDE INDIGENA ALTO RIO PURUS', 'estalecimento_noFantasia': 'POLO INDIGENA DE MANOEL URBANO', 'estabelecimento_municipio_codigo': 120034, 'estabelecimento_municipio_nome': 'MANOEL URBANO', 'estabelecimento_uf': 'AC'}, {'estabelecimento_valor': 2003090, 'estabelecimento_razaoSocial': 'PREFEITURA MUNICIPAL DE EPITACIOLANDIA', 'estalecimento_noFantasia': 'ESF SUELLEN DE LIMA CASTELO', 'estabelecimento_municipio_codigo': 120025, 'estabelecimento_municipio_nome': 'EPITACIOLANDIA', 'estabelecimento_uf': 'AC'}, {'estabelecimento_valor': 117382, 'estabelecimento_razaoSocial': 'USF LIDIA RODRIGUES', 'estalecimento_noFantasia': 'USF LIDIA RODRIGUES', 'estabelecimento_municipio_codigo': 120040, 'estabelecimento_municipio_nome': 'RIO BRANCO', 'estabelecimento_uf': 'AC'}, {'estabelecimento_valor': 2000318, 'estabelecimento_razaoSocial': 'PREFEITURA MUNICIPAL DE CRUZEIRO DO SUL', 'estalecimento_noFantasia': 'UNIDADE DA SAUDE DA FAMILIA PASTOR JOAO BRAZ', 'estabelecimento_municipio_codigo': 120020, 'estabelecimento_municipio_nome': 'CRUZEIRO DO SUL', 'estabelecimento_uf': 'AC'}, {'estabelecimento_valor': 9908382, 'estabelecimento_razaoSocial': 'USF AEROPORTO VELHO', 'estalecimento_noFantasia': 'USF AEROPORTO VELHO', 'estabelecimento_municipio_codigo': 120040, 'estabelecimento_municipio_nome': 'RIO BRANCO', 'estabelecimento_uf': 'AC'}, {'estabelecimento_valor': 2001128, 'estabelecimento_razaoSocial': 'PREFEITURA MUNICIPAL DE PORTO ACRE', 'estalecimento_noFantasia': 'UNIDADE DE SAUDE DA FAMILIA MARIA SOLEDADE SOARES GADELHA', 'estabelecimento_municipio_codigo': 120080, 'estabelecimento_municipio_nome': 'PORTO ACRE', 'estabelecimento_uf': 'AC'}, {'estabelecimento_valor': 2001829, 'estabelecimento_razaoSocial': 'PREFEITURA MUNICIPAL DE RIO BRANCO', 'estalecimento_noFantasia': 'USF BENFICA', 'estabelecimento_municipio_codigo': 120040, 'estabelecimento_municipio_nome': 'RIO BRANCO', 'estabelecimento_uf': 'AC'}, {'estabelecimento_valor': 7560583, 'estabelecimento_razaoSocial': 'PREFEITURA MUNICIPAL DE CRUZEIRO DO SUL', 'estalecimento_noFantasia': 'POSTO DE SAUDE MAURICIO PERES NOBRE', 'estabelecimento_municipio_codigo': 120020, 'estabelecimento_municipio_nome': 'CRUZEIRO DO SUL', 'estabelecimento_uf': 'AC'}, {'estabelecimento_valor': 7058322, 'estabelecimento_razaoSocial': 'PREFEITURA MUNICIPAL DE BRASILEIA', 'estalecimento_noFantasia': 'ESF ANTONIO MONTEIRO DOS REIS', 'estabelecimento_municipio_codigo': 120010, 'estabelecimento_municipio_nome': 'BRASILEIA', 'estabelecimento_uf': 'AC'}, {'estabelecimento_valor': 2003155, 'estabelecimento_razaoSocial': 'PREFEITURA MUNICIPAL DE RIO BRANCO', 'estalecimento_noFantasia': 'USF MAXIMO DIOGO II', 'estabelecimento_municipio_codigo': 120040, 'estabelecimento_municipio_nome': 'RIO BRANCO', 'estabelecimento_uf': 'AC'}, {'estabelecimento_valor': 2000628, 'estabelecimento_razaoSocial': 'PREFEITURA MUNICIPAL DE CRUZEIRO DO SUL', 'estalecimento_noFantasia': 'UNIDADE DE SAUDE DA FAMILIA OSMAR D ALBUQUERQUE LIMA', 'estabelecimento_municipio_codigo': 120020, 'estabelecimento_municipio_nome': 'CRUZEIRO DO SUL', 'estabelecimento_uf': 'AC'}, {'estabelecimento_valor': 3323307, 'estabelecimento_razaoSocial': 'PREFEITURA MUNICIPAL DE PORTO ACRE', 'estalecimento_noFantasia': 'UNIDADE DE SAUDE DA FAMILIA ALVARO ARAUJO NOBRE', 'estabelecimento_municipio_codigo': 120080, 'estabelecimento_municipio_nome': 'PORTO ACRE', 'estabelecimento_uf': 'AC'}, {'estabelecimento_valor': 6568629, 'estabelecimento_razaoSocial': 'PREFEITURA MUNICIPAL DE MANCIO LIMA', 'estalecimento_noFantasia': 'U S F SOFIA ALMEIDA BARRETO', 'estabelecimento_municipio_codigo': 120033, 'estabelecimento_municipio_nome': 'MANCIO LIMA', 'estabelecimento_uf': 'AC'}, {'estabelecimento_valor': 3331776, 'estabelecimento_razaoSocial': 'MUNICIPIO DE RIO BRANCO', 'estalecimento_noFantasia': 'USF DR RAIMUNDO MOREIRA', 'estabelecimento_municipio_codigo': 120040, 'estabelecimento_municipio_nome': 'RIO BRANCO', 'estabelecimento_uf': 'AC'}, {'estabelecimento_valor': 3516822, 'estabelecimento_razaoSocial': 'PREFEITURA MUNICIPAL DE BUJARI', 'estalecimento_noFantasia': 'USF ANTIMARY', 'estabelecimento_municipio_codigo': 120013, 'estabelecimento_municipio_nome': 'BUJARI', 'estabelecimento_uf': 'AC'}, {'estabelecimento_valor': 9948759, 'estabelecimento_razaoSocial': 'PREFEITURA DE BRASILEIA', 'estalecimento_noFantasia': 'ESF RAIMUNDA ANTONIA DE ARAUJO CARNEIRO LIMA', 'estabelecimento_municipio_codigo': 120010, 'estabelecimento_municipio_nome': 'BRASILEIA', 'estabelecimento_uf': 'AC'}, {'estabelecimento_valor': 3331911, 'estabelecimento_razaoSocial': 'PREFEITURA MUNICIPAL DE RIO BRANCO', 'estalecimento_noFantasia': 'USF ANA ROSA ZONA RURAL', 'estabelecimento_municipio_codigo': 120040, 'estabelecimento_municipio_nome': 'RIO BRANCO', 'estabelecimento_uf': 'AC'}, {'estabelecimento_valor': 7560133, 'estabelecimento_razaoSocial': 'PREFEITURA MUNICIPAL DE CRUZEIRO DO SUL', 'estalecimento_noFantasia': 'POSTO DE SAUDE DEPUTADO FRANCISCO THAUMATURGO', 'estabelecimento_municipio_codigo': 120020, 'estabelecimento_municipio_nome': 'CRUZEIRO DO SUL', 'estabelecimento_uf': 'AC'}, {'estabelecimento_valor': 2000113, 'estabelecimento_razaoSocial': 'PREFEITURA MUNICIPAL DE TARAUACA', 'estalecimento_noFantasia': 'UNIDADE DE SAUDE DA FAMILIA MARILIA VIEIRA LIMA DE SOUZA', 'estabelecimento_municipio_codigo': 120060, 'estabelecimento_municipio_nome': 'TARAUACA', 'estabelecimento_uf': 'AC'}, {'estabelecimento_valor': 5371643, 'estabelecimento_razaoSocial': 'PREFEITURA MUNICIPAL DE TARAUACA', 'estalecimento_noFantasia': 'UNIDADE MOVEL DE SAUDE FLUVIAL DEZINHO', 'estabelecimento_municipio_codigo': 120060, 'estabelecimento_municipio_nome': 'TARAUACA', 'estabelecimento_uf': 'AC'}, {'estabelecimento_valor': 7168748, 'estabelecimento_razaoSocial': 'PREFEITURA MUNICIPAL DE MANCIO LIMA', 'estalecimento_noFantasia': 'USF WILSON BATISTA SIQUEIRA', 'estabelecimento_municipio_codigo': 120033, 'estabelecimento_municipio_nome': 'MANCIO LIMA', 'estabelecimento_uf': 'AC'}, {'estabelecimento_valor': 2001454, 'estabelecimento_razaoSocial': 'PREFEITURA MUNICIPAL DE BRASILEIA', 'estalecimento_noFantasia': 'ESF SIMAO MANSOU BARTHA', 'estabelecimento_municipio_codigo': 120010, 'estabelecimento_municipio_nome': 'BRASILEIA', 'estabelecimento_uf': 'AC'}, {'estabelecimento_valor': 5174678, 'estabelecimento_razaoSocial': 'PREFEITURA MUNICIPAL DE TARAUACA', 'estalecimento_noFantasia': 'USF PADRE HUBERT GROSSHEIM', 'estabelecimento_municipio_codigo': 120060, 'estabelecimento_municipio_nome': 'TARAUACA', 'estabelecimento_uf': 'AC'}, {'estabelecimento_valor': 7560141, 'estabelecimento_razaoSocial': 'PREFEITURA MUNICIPAL DE CRUZEIRO DO SUL', 'estalecimento_noFantasia': 'UNIDADE BASICA DE SAUDE FRANCISCA SOUZA MACHADO', 'estabelecimento_municipio_codigo': 120020, 'estabelecimento_municipio_nome': 'CRUZEIRO DO SUL', 'estabelecimento_uf': 'AC'}, {'estabelecimento_valor': 2000490, 'estabelecimento_razaoSocial': 'PREFEITURA MUNICIPAL DE RIO BRANCO', 'estalecimento_noFantasia': 'URAP FRANCISCO RONEY RODRIGUES MEIRELES', 'estabelecimento_municipio_codigo': 120040, 'estabelecimento_municipio_nome': 'RIO BRANCO', 'estabelecimento_uf': 'AC'}, {'estabelecimento_valor': 5493455, 'estabelecimento_razaoSocial': 'PREFEITURA MUNICIPAL DE PLACIDO DE CASTRO', 'estalecimento_noFantasia': 'U S F MARIO GOMES DA SILVA', 'estabelecimento_municipio_codigo': 120038, 'estabelecimento_municipio_nome': 'PLACIDO DE CASTRO', 'estabelecimento_uf': 'AC'}, {'estabelecimento_valor': 499919, 'estabelecimento_razaoSocial': 'MUNICIPIO DE SANTA ROSA DO PURUS', 'estalecimento_noFantasia': 'UNIDADE BASICA DE SAUDE MANDUCA KULINA', 'estabelecimento_municipio_codigo': 120043, 'estabelecimento_municipio_nome': 'SANTA ROSA DO PURUS', 'estabelecimento_uf': 'AC'}, {'estabelecimento_valor': 2000458, 'estabelecimento_razaoSocial': 'PREFEITURA MUNICIPAL DE RIO BRANCO', 'estalecimento_noFantasia': 'USF MARIA DE FATIMA I', 'estabelecimento_municipio_codigo': 120040, 'estabelecimento_municipio_nome': 'RIO BRANCO', 'estabelecimento_uf': 'AC'}, {'estabelecimento_valor': 9830464, 'estabelecimento_razaoSocial': 'MUNICIPIO DE BRASILEIA', 'estalecimento_noFantasia': 'ESF ANTONIO CORREIA DA CRUZ', 'estabelecimento_municipio_codigo': 120010, 'estabelecimento_municipio_nome': 'BRASILEIA', 'estabelecimento_uf': 'AC'}, {'estabelecimento_valor': 2001837, 'estabelecimento_razaoSocial': 'PREFEITURA MUNICIPAL DE RIO BRANCO', 'estalecimento_noFantasia': 'USF SANTA INES', 'estabelecimento_municipio_codigo': 120040, 'estabelecimento_municipio_nome': 'RIO BRANCO', 'estabelecimento_uf': 'AC'}, {'estabelecimento_valor': 9896392, 'estabelecimento_razaoSocial': 'SECRETARIA MUNICIPAL DE SAUDE', 'estalecimento_noFantasia': 'POSTO DE SAUDE TAUARI', 'estabelecimento_municipio_codigo': 120060, 'estabelecimento_municipio_nome': 'TARAUACA', 'estabelecimento_uf': 'AC'}, {'estabelecimento_valor': 3015548, 'estabelecimento_razaoSocial': 'PREFEITURA MUNICIPAL DE RIO BRANCO', 'estalecimento_noFantasia': 'USF PLATILDE OLIVEIRA I', 'estabelecimento_municipio_codigo': 120040, 'estabelecimento_municipio_nome': 'RIO BRANCO', 'estabelecimento_uf': 'AC'}, {'estabelecimento_valor': 2003031, 'estabelecimento_razaoSocial': 'MUNICIPIO DE RIO BRANCO', 'estalecimento_noFantasia': 'USF VITORIA I', 'estabelecimento_municipio_codigo': 120040, 'estabelecimento_municipio_nome': 'RIO BRANCO', 'estabelecimento_uf': 'AC'}, {'estabelecimento_valor': 7959087, 'estabelecimento_razaoSocial': 'MUNICIPIO DE PORTO WALTER', 'estalecimento_noFantasia': 'UBS MAURICIO PINHEIRO DE OLIVEIRA', 'estabelecimento_municipio_codigo': 120039, 'estabelecimento_municipio_nome': 'PORTO WALTER', 'estabelecimento_uf': 'AC'}, {'estabelecimento_valor': 2003279, 'estabelecimento_razaoSocial': 'PREFEITURA MUNICIPAL DE RIO BRANCO', 'estalecimento_noFantasia': 'USF ANTONIA LIRA FONTINELE DA SILVA BELO JARDIM III', 'estabelecimento_municipio_codigo': 120040, 'estabelecimento_municipio_nome': 'RIO BRANCO', 'estabelecimento_uf': 'AC'}, {'estabelecimento_valor': 3331806, 'estabelecimento_razaoSocial': 'PREFEITURA MUNICIPAL DE RIO BRANCO', 'estalecimento_noFantasia': 'USF RAIMUNDA DIONIZIO', 'estabelecimento_municipio_codigo': 120040, 'estabelecimento_municipio_nome': 'RIO BRANCO', 'estabelecimento_uf': 'AC'}, {'estabelecimento_valor': 6119697, 'estabelecimento_razaoSocial': 'MUNICIPIO DE RIO BRANCO', 'estalecimento_noFantasia': 'URAP ROZANGELA PIMENTEL FIGUEIRA', 'estabelecimento_municipio_codigo': 120040, 'estabelecimento_municipio_nome': 'RIO BRANCO', 'estabelecimento_uf': 'AC'}, {'estabelecimento_valor': 2001470, 'estabelecimento_razaoSocial': 'PREFEITURA MUNICIPAL DE BRASILEIA', 'estalecimento_noFantasia': 'ESF FRANCISCO DE ASSIS', 'estabelecimento_municipio_codigo': 120010, 'estabelecimento_municipio_nome': 'BRASILEIA', 'estabelecimento_uf': 'AC'}, {'estabelecimento_valor': 3900975, 'estabelecimento_razaoSocial': 'PREFEITURA MUNICIPAL DE TARAUACA', 'estalecimento_noFantasia': 'USF MARIA FRANCISCA DA COSTA CABRAL', 'estabelecimento_municipio_codigo': 120060, 'estabelecimento_municipio_nome': 'TARAUACA', 'estabelecimento_uf': 'AC'}, {'estabelecimento_valor': 2000369, 'estabelecimento_razaoSocial': 'PREFEITURA MUNICIPAL DE CRUZEIRO DO SUL', 'estalecimento_noFantasia': 'UNIDADE DA SAUDE DA FAM JOSE MATHEUS ARNALDO DOS SANTOS', 'estabelecimento_municipio_codigo': 120020, 'estabelecimento_municipio_nome': 'CRUZEIRO DO SUL', 'estabelecimento_uf': 'AC'}, {'estabelecimento_valor': 3015556, 'estabelecimento_razaoSocial': 'PREFEITURA MUNICIPAL DE RIO BRANCO', 'estalecimento_noFantasia': 'USF MARIA DA CONCEICAO', 'estabelecimento_municipio_codigo': 120040, 'estabelecimento_municipio_nome': 'RIO BRANCO', 'estabelecimento_uf': 'AC'}, {'estabelecimento_valor': 2003015, 'estabelecimento_razaoSocial': 'PREFEITURA MUNICIPAL DE RIO BRANCO', 'estalecimento_noFantasia': 'USF JOSE GOMES DE OLIVEIRA', 'estabelecimento_municipio_codigo': 120040, 'estabelecimento_municipio_nome': 'RIO BRANCO', 'estabelecimento_uf': 'AC'}, {'estabelecimento_valor': 3752259, 'estabelecimento_razaoSocial': 'PREFEITURA MUNICIPAL DE RIO BRANCO', 'estalecimento_noFantasia': 'USF NIMEO INSFRAN MARTINEZ', 'estabelecimento_municipio_codigo': 120040, 'estabelecimento_municipio_nome': 'RIO BRANCO', 'estabelecimento_uf': 'AC'}, {'estabelecimento_valor': 2001845, 'estabelecimento_razaoSocial': 'PREFEITURA MUNICIPAL DE RIO BRANCO', 'estalecimento_noFantasia': 'USF BELO JARDIM I', 'estabelecimento_municipio_codigo': 120040, 'estabelecimento_municipio_nome': 'RIO BRANCO', 'estabelecimento_uf': 'AC'}, {'estabelecimento_valor': 6764533, 'estabelecimento_razaoSocial': 'PREFEITURA MUNICIPAL DE CRUZEIRO DO SUL', 'estalecimento_noFantasia': 'POSTO DE SAUDE BURITIRANA', 'estabelecimento_municipio_codigo': 120020, 'estabelecimento_municipio_nome': 'CRUZEIRO DO SUL', 'estabelecimento_uf': 'AC'}, {'estabelecimento_valor': 2003171, 'estabelecimento_razaoSocial': 'MUNICIPIO DE RIO BRANCO', 'estalecimento_noFantasia': 'USF MARIA AUREA VILELA', 'estabelecimento_municipio_codigo': 120040, 'estabelecimento_municipio_nome': 'RIO BRANCO', 'estabelecimento_uf': 'AC'}, {'estabelecimento_valor': 2002302, 'estabelecimento_razaoSocial': 'PREFEITURA MUNICIPAL DE CRUZEIRO DO SUL', 'estalecimento_noFantasia': 'POSTO DE SAUDE VITAL BRASIL', 'estabelecimento_municipio_codigo': 120020, 'estabelecimento_municipio_nome': 'CRUZEIRO DO SUL', 'estabelecimento_uf': 'AC'}, {'estabelecimento_valor': 3462366, 'estabelecimento_razaoSocial': 'PREFEITURA MUNICIPAL DE TARAUACA', 'estalecimento_noFantasia': 'UNIDADE DE SAUDE DA FAMILIA MARIA ESPANHOL DA SILVA', 'estabelecimento_municipio_codigo': 120060, 'estabelecimento_municipio_nome': 'TARAUACA', 'estabelecimento_uf': 'AC'}, {'estabelecimento_valor': 9957650, 'estabelecimento_razaoSocial': 'SECRETARIA DE ESTADO DE SAUDE', 'estalecimento_noFantasia': 'CRIE CRUZEIRO DO SUL', 'estabelecimento_municipio_codigo': 120020, 'estabelecimento_municipio_nome': 'CRUZEIRO DO SUL', 'estabelecimento_uf': 'AC'}, {'estabelecimento_valor': 2000458, 'estabelecimento_razaoSocial': 'PREFEITURA MUNICIPAL DE RIO BRANCO', 'estalecimento_noFantasia': 'USF MARIA DE FATIMA', 'estabelecimento_municipio_codigo': 120040, 'estabelecimento_municipio_nome': 'RIO BRANCO', 'estabelecimento_uf': 'AC'}, {'estabelecimento_valor': 2003287, 'estabelecimento_razaoSocial': 'MUNICIPIO DE RIO BRANCO', 'estalecimento_noFantasia': 'USF MARIANO GONZAGA I', 'estabelecimento_municipio_codigo': 120040, 'estabelecimento_municipio_nome': 'RIO BRANCO', 'estabelecimento_uf': 'AC'}, {'estabelecimento_valor': 2001462, 'estabelecimento_razaoSocial': 'PREFEITURA MUNICIPAL DE BRASILEIA', 'estalecimento_noFantasia': 'ESF DR RICARDO BARBOSA DA SILVA', 'estabelecimento_municipio_codigo': 120010, 'estabelecimento_municipio_nome': 'BRASILEIA', 'estabelecimento_uf': 'AC'}, {'estabelecimento_valor': 6607861, 'estabelecimento_razaoSocial': 'PREFEITURA MUNICIPAL DE SENADOR', 'estalecimento_noFantasia': 'UNIDADE DE SAUDE DA FAMILIA MIGUEL SEVERINO DE OLIVEIRA', 'estabelecimento_municipio_codigo': 120045, 'estabelecimento_municipio_nome': 'SENADOR GUIOMARD', 'estabelecimento_uf': 'AC'}, {'estabelecimento_valor': 2001012, 'estabelecimento_razaoSocial': 'SECRETARIA DE ESTADO DE SAUDE DO ACRE', 'estalecimento_noFantasia': 'USF MOCINHA MAGALHAES', 'estabelecimento_municipio_codigo': 120040, 'estabelecimento_municipio_nome': 'RIO BRANCO', 'estabelecimento_uf': 'AC'}, {'estabelecimento_valor': 2001330, 'estabelecimento_razaoSocial': 'PREFEITURA MUNICIPAL DE EPITACIOLANDIA', 'estalecimento_noFantasia': 'CENTRO DE SAUDE JOSE CANDIDO DE MESQUITA', 'estabelecimento_municipio_codigo': 120025, 'estabelecimento_municipio_nome': 'EPITACIOLANDIA', 'estabelecimento_uf': 'AC'}, {'estabelecimento_valor': 2000679, 'estabelecimento_razaoSocial': 'PREFEITURA MUNICIPAL DE SENADOR GUIOMARD', 'estalecimento_noFantasia': 'UNIDADE S DA F FRANCISCO TAVEIRA', 'estabelecimento_municipio_codigo': 120045, 'estabelecimento_municipio_nome': 'SENADOR GUIOMARD', 'estabelecimento_uf': 'AC'}, {'estabelecimento_valor': 2000091, 'estabelecimento_razaoSocial': 'PREFEITURA MUNICIPAL DE MANCIO LIMA', 'estalecimento_noFantasia': 'U S F JOSE ARAUJO', 'estabelecimento_municipio_codigo': 120033, 'estabelecimento_municipio_nome': 'MANCIO LIMA', 'estabelecimento_uf': 'AC'}, {'estabelecimento_valor': 2000881, 'estabelecimento_razaoSocial': 'PREFEITURA MUNICIPAL DE SENA MADUREIRA', 'estalecimento_noFantasia': 'UNIDADE BASICA DE SAUDE CARLOS AFONSO VIEIRA', 'estabelecimento_municipio_codigo': 120050, 'estabelecimento_municipio_nome': 'SENA MADUREIRA', 'estabelecimento_uf': 'AC'}, {'estabelecimento_valor': 783722, 'estabelecimento_razaoSocial': 'SECRETARIA MUNICIPAL DE SAUDE', 'estalecimento_noFantasia': 'UNIDADE BASICA JOSE SOUZA CORREIA', 'estabelecimento_municipio_codigo': 120042, 'estabelecimento_municipio_nome': 'RODRIGUES ALVES', 'estabelecimento_uf': 'AC'}, {'estabelecimento_valor': 7120680, 'estabelecimento_razaoSocial': 'PREFEITURA MUNICIPAL DE RIO BRANCO', 'estalecimento_noFantasia': 'USF ELPIDIO MOREIRA SOUZA', 'estabelecimento_municipio_codigo': 120040, 'estabelecimento_municipio_nome': 'RIO BRANCO', 'estabelecimento_uf': 'AC'}, {'estabelecimento_valor': 2003031, 'estabelecimento_razaoSocial': 'MUNICIPIO DE RIO BRANCO', 'estalecimento_noFantasia': 'USF VITORIA', 'estabelecimento_municipio_codigo': 120040, 'estabelecimento_municipio_nome': 'RIO BRANCO', 'estabelecimento_uf': 'AC'}, {'estabelecimento_valor': 3015513, 'estabelecimento_razaoSocial': 'PREFEITURA MUNICIPAL DE RIO BRANCO', 'estalecimento_noFantasia': 'USF FRANCISCA BARBOSA GUERRA', 'estabelecimento_municipio_codigo': 120040, 'estabelecimento_municipio_nome': 'RIO BRANCO', 'estabelecimento_uf': 'AC'}, {'estabelecimento_valor': 9618902, 'estabelecimento_razaoSocial': 'MUNICIPIO DE SENADOR GUIOMARD', 'estalecimento_noFantasia': 'UNIDADE SAUDE DA FAMILIA MARIA RAIMUNDA MENDONCA', 'estabelecimento_municipio_codigo': 120045, 'estabelecimento_municipio_nome': 'SENADOR GUIOMARD', 'estabelecimento_uf': 'AC'}, {'estabelecimento_valor': 2001837, 'estabelecimento_razaoSocial': 'PREFEITURA MUNICIPAL DE RIO BRANCO', 'estalecimento_noFantasia': 'USF SANTA INES I', 'estabelecimento_municipio_codigo': 120040, 'estabelecimento_municipio_nome': 'RIO BRANCO', 'estabelecimento_uf': 'AC'}, {'estabelecimento_valor': 7565534, 'estabelecimento_razaoSocial': 'MUNICIPIO DE RIO BRANCO', 'estalecimento_noFantasia': 'USF LUANA FREITAS', 'estabelecimento_municipio_codigo': 120040, 'estabelecimento_municipio_nome': 'RIO BRANCO', 'estabelecimento_uf': 'AC'}, {'estabelecimento_valor': 2003147, 'estabelecimento_razaoSocial': 'PREFEITURA MUNICIPAL DE EPITACIOLANDIA', 'estalecimento_noFantasia': 'ESF MANOEL ARAUJO DA COSTA', 'estabelecimento_municipio_codigo': 120025, 'estabelecimento_municipio_nome': 'EPITACIOLANDIA', 'estabelecimento_uf': 'AC'}, {'estabelecimento_valor': 2002701, 'estabelecimento_razaoSocial': 'PREFEITURA MUNICIPAL DE RIO BRANCO', 'estalecimento_noFantasia': 'USF MARIA SOFIA', 'estabelecimento_municipio_codigo': 120040, 'estabelecimento_municipio_nome': 'RIO BRANCO', 'estabelecimento_uf': 'AC'}, {'estabelecimento_valor': 2001853, 'estabelecimento_razaoSocial': 'PREFEITURA MUNICIPAL DE RIO BRANCO', 'estalecimento_noFantasia': 'USF NADEZIR DA SILVA DE LIMA', 'estabelecimento_municipio_codigo': 120040, 'estabelecimento_municipio_nome': 'RIO BRANCO', 'estabelecimento_uf': 'AC'}, {'estabelecimento_valor': 7617852, 'estabelecimento_razaoSocial': 'PREFEITURA DE SENA MADUREIRA', 'estalecimento_noFantasia': 'UNIDADE BASICA DE SAUDE JOVILIO ALVES', 'estabelecimento_municipio_codigo': 120050, 'estabelecimento_municipio_nome': 'SENA MADUREIRA', 'estabelecimento_uf': 'AC'}, {'estabelecimento_valor': 3590992, 'estabelecimento_razaoSocial': 'PREFEITURA MUNICIPAL DE MARECHAL THAUMATURGO', 'estalecimento_noFantasia': 'ESF RIBEIRINHA LUIZ FONTINELI', 'estabelecimento_municipio_codigo': 120035, 'estabelecimento_municipio_nome': 'MARECHAL THAUMATURGO', 'estabelecimento_uf': 'AC'}, {'estabelecimento_valor': 3042553, 'estabelecimento_razaoSocial': 'PREFEITURA MUNICIPAL DE BRASILEIA', 'estalecimento_noFantasia': 'ESF JOSE MARIA DE SOUZA SANTOS', 'estabelecimento_municipio_codigo': 120010, 'estabelecimento_municipio_nome': 'BRASILEIA', 'estabelecimento_uf': 'AC'}, {'estabelecimento_valor': 2003058, 'estabelecimento_razaoSocial': 'MUNICIPIO DE RIO BRANCO', 'estalecimento_noFantasia': 'USF LUIZ GONZAGA I', 'estabelecimento_municipio_codigo': 120040, 'estabelecimento_municipio_nome': 'RIO BRANCO', 'estabelecimento_uf': 'AC'}, {'estabelecimento_valor': 7565534, 'estabelecimento_razaoSocial': 'MUNICIPIO DE RIO BRANCO', 'estalecimento_noFantasia': 'USF LUANA FREITAS I', 'estabelecimento_municipio_codigo': 120040, 'estabelecimento_municipio_nome': 'RIO BRANCO', 'estabelecimento_uf': 'AC'}, {'estabelecimento_valor': 115606, 'estabelecimento_razaoSocial': 'K M OLIVEIRA EIRELI', 'estalecimento_noFantasia': 'MAIS SAUDE DIAGNOSTICO', 'estabelecimento_municipio_codigo': 120020, 'estabelecimento_municipio_nome': 'CRUZEIRO DO SUL', 'estabelecimento_uf': 'AC'}, {'estabelecimento_valor': 2002779, 'estabelecimento_razaoSocial': 'MUNICIPIO DE RIO BRANCO', 'estalecimento_noFantasia': 'USF SEBASTIANA PRADO ZONA RURAL', 'estabelecimento_municipio_codigo': 120040, 'estabelecimento_municipio_nome': 'RIO BRANCO', 'estabelecimento_uf': 'AC'}, {'estabelecimento_valor': 3331784, 'estabelecimento_razaoSocial': 'MUNICIPIO DE RIO BRANCO', 'estalecimento_noFantasia': 'USF MARIA VERONICA II', 'estabelecimento_municipio_codigo': 120040, 'estabelecimento_municipio_nome': 'RIO BRANCO', 'estabelecimento_uf': 'AC'}, {'estabelecimento_valor': 2002930, 'estabelecimento_razaoSocial': 'PREFEITURA MUNICIPAL DE PLACIDO DE CASTRO', 'estalecimento_noFantasia': 'U S F MARIA DE FATIMA FERREIRA DE PAULA', 'estabelecimento_municipio_codigo': 120038, 'estabelecimento_municipio_nome': 'PLACIDO DE CASTRO', 'estabelecimento_uf': 'AC'}, {'estabelecimento_valor': 9846433, 'estabelecimento_razaoSocial': 'PREFEITURA MUNICIPAL DE MANOEL URBANO', 'estalecimento_noFantasia': 'UNIDADE BASICA DE SAUDE MILTON AUGUSTO DA SILVA', 'estabelecimento_municipio_codigo': 120034, 'estabelecimento_municipio_nome': 'MANOEL URBANO', 'estabelecimento_uf': 'AC'}, {'estabelecimento_valor': 9296042, 'estabelecimento_razaoSocial': 'PREFEITURA MUNICIPAL DE SENADOR GUIOMARD', 'estalecimento_noFantasia': 'UNIDADE BASICA DE SAUDE FRANCISCO LUIS DE FRANCA', 'estabelecimento_municipio_codigo': 120045, 'estabelecimento_municipio_nome': 'SENADOR GUIOMARD', 'estabelecimento_uf': 'AC'}, {'estabelecimento_valor': 7560591, 'estabelecimento_razaoSocial': 'PREFEITURA MUNICIPAL DE SAUDE', 'estalecimento_noFantasia': 'POSTO DE SAUDE RAIMUNDO JOSE DA SILVA', 'estabelecimento_municipio_codigo': 120020, 'estabelecimento_municipio_nome': 'CRUZEIRO DO SUL', 'estabelecimento_uf': 'AC'}, {'estabelecimento_valor': 6596657, 'estabelecimento_razaoSocial': 'PREFEITURA MUNICIPAL DE SANTA ROSA DO PURUS', 'estalecimento_noFantasia': 'PSF MOVEL DE SANTA ROSA DO PURUS', 'estabelecimento_municipio_codigo': 120043, 'estabelecimento_municipio_nome': 'SANTA ROSA DO PURUS', 'estabelecimento_uf': 'AC'}, {'estabelecimento_valor': 2002884, 'estabelecimento_razaoSocial': 'PREFEITURA MUNICIPAL DE BUJARI', 'estalecimento_noFantasia': 'U S F MARIA IZA VIANA DE CASTRO', 'estabelecimento_municipio_codigo': 120013, 'estabelecimento_municipio_nome': 'BUJARI', 'estabelecimento_uf': 'AC'}, {'estabelecimento_valor': 197599, 'estabelecimento_razaoSocial': 'CENTRAL MUNICIPAL DE REDE DE FRIOS', 'estalecimento_noFantasia': 'CENTRAL MUNICIPAL DE REDE DE FRIOS', 'estabelecimento_municipio_codigo': 120020, 'estabelecimento_municipio_nome': 'CRUZEIRO DO SUL', 'estabelecimento_uf': 'AC'}, {'estabelecimento_valor': 6076017, 'estabelecimento_razaoSocial': 'ALERGOYMUNE CLINICA DE ALERGIA E IMUNIZACAO LTDA', 'estalecimento_noFantasia': 'ALERGOYMUNE', 'estabelecimento_municipio_codigo': 120040, 'estabelecimento_municipio_nome': 'RIO BRANCO', 'estabelecimento_uf': 'AC'}, {'estabelecimento_valor': 2001357, 'estabelecimento_razaoSocial': 'SECRETARIA MUNICIPAL DE SAUDE DE BRASILEIA', 'estalecimento_noFantasia': 'ESF PEDRO OLIVEIRA DE SOUZA', 'estabelecimento_municipio_codigo': 120010, 'estabelecimento_municipio_nome': 'BRASILEIA', 'estabelecimento_uf': 'AC'}, {'estabelecimento_valor': 755605, 'estabelecimento_razaoSocial': 'USF BARRO VERMELHO', 'estalecimento_noFantasia': 'USF BARRO VERMELHO', 'estabelecimento_municipio_codigo': 120040, 'estabelecimento_municipio_nome': 'RIO BRANCO', 'estabelecimento_uf': 'AC'}, {'estabelecimento_valor': 2000814, 'estabelecimento_razaoSocial': 'SECRETARIA DE ESTADO DE SAUDE DO ACRE', 'estalecimento_noFantasia': 'USF FRANCISCO EDUARDO DE PAIVA', 'estabelecimento_municipio_codigo': 120040, 'estabelecimento_municipio_nome': 'RIO BRANCO', 'estabelecimento_uf': 'AC'}, {'estabelecimento_valor': 2832798, 'estabelecimento_razaoSocial': 'PREFEITURA MUNICIPAL DE EPITACIOLANDIA', 'estalecimento_noFantasia': 'UNIDADE DE SAUDE ALBERTO FLORENCIO DA SILVA', 'estabelecimento_municipio_codigo': 120025, 'estabelecimento_municipio_nome': 'EPITACIOLANDIA', 'estabelecimento_uf': 'AC'}, {'estabelecimento_valor': 7565089, 'estabelecimento_razaoSocial': 'PREFEITURA MUNICIPAL DE RIO BRANCO', 'estalecimento_noFantasia': 'USF MARIA DE JESUS III', 'estabelecimento_municipio_codigo': 120040, 'estabelecimento_municipio_nome': 'RIO BRANCO', 'estabelecimento_uf': 'AC'}]\n"
     ]
    }
   ],
   "source": [
    "# 6)\n",
    "# Remover duplicatas, mantendo uma linha por estabelecimento\n",
    "establishment_data_unique = establishment_data.drop_duplicates()\n",
    "\n",
    "# Criar uma lista com os dados dos estabelecimentos\n",
    "establishment_list = establishment_data_unique.to_dict(orient='records')\n",
    "\n",
    "print(\"Lista de dados únicos dos estabelecimentos:\")\n",
    "print(establishment_list)"
   ]
  },
  {
   "cell_type": "code",
   "execution_count": null,
   "metadata": {},
   "outputs": [],
   "source": []
  }
 ],
 "metadata": {
  "colab": {
   "provenance": []
  },
  "kernelspec": {
   "display_name": "Python 3 (ipykernel)",
   "language": "python",
   "name": "python3"
  },
  "language_info": {
   "codemirror_mode": {
    "name": "ipython",
    "version": 3
   },
   "file_extension": ".py",
   "mimetype": "text/x-python",
   "name": "python",
   "nbconvert_exporter": "python",
   "pygments_lexer": "ipython3",
   "version": "3.12.4"
  },
  "toc": {
   "base_numbering": 1,
   "nav_menu": {},
   "number_sections": false,
   "sideBar": true,
   "skip_h1_title": true,
   "title_cell": "Índice",
   "title_sidebar": "Conteúdo",
   "toc_cell": false,
   "toc_position": {},
   "toc_section_display": true,
   "toc_window_display": false
  },
  "varInspector": {
   "cols": {
    "lenName": 16,
    "lenType": 16,
    "lenVar": 40
   },
   "kernels_config": {
    "python": {
     "delete_cmd_postfix": "",
     "delete_cmd_prefix": "del ",
     "library": "var_list.py",
     "varRefreshCmd": "print(var_dic_list())"
    },
    "r": {
     "delete_cmd_postfix": ") ",
     "delete_cmd_prefix": "rm(",
     "library": "var_list.r",
     "varRefreshCmd": "cat(var_dic_list()) "
    }
   },
   "types_to_exclude": [
    "module",
    "function",
    "builtin_function_or_method",
    "instance",
    "_Feature"
   ],
   "window_display": false
  }
 },
 "nbformat": 4,
 "nbformat_minor": 4
}
