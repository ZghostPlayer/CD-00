{
 "cells": [
  {
   "cell_type": "markdown",
   "metadata": {
    "id": "d8yCrvnM_2sd"
   },
   "source": [
    "# Módulo 07, Tarefa 01\n",
    "\n",
    "Vamos começar a mexer na nossa base de projeto? Já fizemos um exercício de montar a variável resposta, já pudemos perceber que essa atividade pode não ser trivial. Vamos agora trabalhar a base para que fique propícia ao *scikitlearn* para trabalharmos.\n",
    "\n",
    "Lembrando, a base se chama demo01.csv, e originalmente está publicada [aqui](https://www.kaggle.com/rikdifos/credit-card-approval-prediction)."
   ]
  },
  {
   "cell_type": "markdown",
   "metadata": {
    "id": "hcMBVVE8_2sg"
   },
   "source": [
    "#### 1) Carregue a base e avalie:\n",
    "\n",
    "- As variáveis\n",
    "- Tipos de dados de cada variável\n",
    "- Quantidade de missings\n",
    "- Distribuição da variável resposta (mau)"
   ]
  },
  {
   "cell_type": "code",
   "execution_count": 19,
   "metadata": {
    "id": "jfUxW_PX_2sh"
   },
   "outputs": [],
   "source": [
    "import os\n",
    "import pandas as pd\n",
    "import numpy as np"
   ]
  },
  {
   "cell_type": "code",
   "execution_count": 45,
   "metadata": {},
   "outputs": [],
   "source": [
    "# Carregar o arquivo CSV\n",
    "csv_file_path = os.path.join('..', 'demo01.csv')\n",
    "df = pd.read_csv(csv_file_path)"
   ]
  },
  {
   "cell_type": "code",
   "execution_count": 47,
   "metadata": {},
   "outputs": [
    {
     "name": "stdout",
     "output_type": "stream",
     "text": [
      "Primeiras linhas do DataFrame:\n",
      "  sexo posse_de_veiculo posse_de_imovel  qtd_filhos            tipo_renda  \\\n",
      "0    M                Y               Y           0               Working   \n",
      "1    F                N               Y           0  Commercial associate   \n",
      "2    F                N               Y           0  Commercial associate   \n",
      "3    M                Y               Y           0               Working   \n",
      "4    F                Y               N           0               Working   \n",
      "\n",
      "                        educacao          estado_civil    tipo_residencia  \\\n",
      "0  Secondary / secondary special               Married  House / apartment   \n",
      "1  Secondary / secondary special  Single / not married  House / apartment   \n",
      "2  Secondary / secondary special  Single / not married  House / apartment   \n",
      "3               Higher education               Married  House / apartment   \n",
      "4              Incomplete higher               Married  House / apartment   \n",
      "\n",
      "       idade  tempo_emprego  possui_celular  possui_fone_comercial  \\\n",
      "0  58.832877       3.106849               1                      0   \n",
      "1  52.356164       8.358904               1                      0   \n",
      "2  52.356164       8.358904               1                      0   \n",
      "3  46.224658       2.106849               1                      1   \n",
      "4  29.230137       3.021918               1                      0   \n",
      "\n",
      "   possui_fone  possui_email  qt_pessoas_residencia    mau  \n",
      "0            0             0                    2.0  False  \n",
      "1            1             1                    1.0  False  \n",
      "2            1             1                    1.0  False  \n",
      "3            1             1                    2.0  False  \n",
      "4            0             0                    2.0  False  \n"
     ]
    }
   ],
   "source": [
    "# Exibir as primeiras linhas do DataFrame\n",
    "print(\"Primeiras linhas do DataFrame:\")\n",
    "print(df.head())"
   ]
  },
  {
   "cell_type": "code",
   "execution_count": 49,
   "metadata": {},
   "outputs": [
    {
     "name": "stdout",
     "output_type": "stream",
     "text": [
      "\n",
      "Tipos de dados de cada variável:\n",
      "sexo                      object\n",
      "posse_de_veiculo          object\n",
      "posse_de_imovel           object\n",
      "qtd_filhos                 int64\n",
      "tipo_renda                object\n",
      "educacao                  object\n",
      "estado_civil              object\n",
      "tipo_residencia           object\n",
      "idade                    float64\n",
      "tempo_emprego            float64\n",
      "possui_celular             int64\n",
      "possui_fone_comercial      int64\n",
      "possui_fone                int64\n",
      "possui_email               int64\n",
      "qt_pessoas_residencia    float64\n",
      "mau                         bool\n",
      "dtype: object\n"
     ]
    }
   ],
   "source": [
    "# Tipos de dados de cada variável\n",
    "print(\"\\nTipos de dados de cada variável:\")\n",
    "print(df.dtypes)"
   ]
  },
  {
   "cell_type": "code",
   "execution_count": 51,
   "metadata": {},
   "outputs": [
    {
     "name": "stdout",
     "output_type": "stream",
     "text": [
      "\n",
      "Quantidade de valores ausentes (missings) por variável:\n",
      "sexo                     0\n",
      "posse_de_veiculo         0\n",
      "posse_de_imovel          0\n",
      "qtd_filhos               0\n",
      "tipo_renda               0\n",
      "educacao                 0\n",
      "estado_civil             0\n",
      "tipo_residencia          0\n",
      "idade                    0\n",
      "tempo_emprego            0\n",
      "possui_celular           0\n",
      "possui_fone_comercial    0\n",
      "possui_fone              0\n",
      "possui_email             0\n",
      "qt_pessoas_residencia    0\n",
      "mau                      0\n",
      "dtype: int64\n"
     ]
    }
   ],
   "source": [
    "# Quantidade de valores ausentes (missings)\n",
    "print(\"\\nQuantidade de valores ausentes (missings) por variável:\")\n",
    "print(df.isnull().sum())"
   ]
  },
  {
   "cell_type": "code",
   "execution_count": 53,
   "metadata": {},
   "outputs": [
    {
     "name": "stdout",
     "output_type": "stream",
     "text": [
      "\n",
      "Distribuição da variável resposta (mau):\n",
      "mau\n",
      "False    16260\n",
      "True       390\n",
      "Name: count, dtype: int64\n",
      "\n",
      "Distribuição percentual da variável resposta (mau):\n",
      "mau\n",
      "False    97.657658\n",
      "True      2.342342\n",
      "Name: proportion, dtype: float64\n"
     ]
    }
   ],
   "source": [
    "# Distribuição da variável resposta (mau)\n",
    "if 'mau' in df.columns:\n",
    "    print(\"\\nDistribuição da variável resposta (mau):\")\n",
    "    print(df['mau'].value_counts())\n",
    "    print(\"\\nDistribuição percentual da variável resposta (mau):\")\n",
    "    print(df['mau'].value_counts(normalize=True) * 100)\n",
    "else:\n",
    "    print(\"\\nA variável 'mau' não está presente no DataFrame.\")"
   ]
  },
  {
   "cell_type": "markdown",
   "metadata": {
    "id": "_v0f02mE_2si"
   },
   "source": [
    "#### 2) Vamos montar um metadados\n",
    "\n",
    "1. Crie um dataframe com os nomes de cada variável e o tipo de dados de cada variável.\n",
    "2. Adicione uma coluna nesse *dataframe* chamada \"qtd_categorias\" e coloque nela o número de categorias correspondente de cada variável.\n",
    "    Dica:\n",
    "        1. inicie uma lista vazia\n",
    "        2. faça um for ao longo dos nomes das variáveis,\n",
    "        3. conte o número de categorias dessa variável\n",
    "        4. acumule essa informação de 3. na lista que você criou em 1.\n",
    "        5. No final, essa lista pode ser atribuída à nossa variável."
   ]
  },
  {
   "cell_type": "code",
   "execution_count": 55,
   "metadata": {
    "id": "gNF5BRdA_2si"
   },
   "outputs": [
    {
     "name": "stdout",
     "output_type": "stream",
     "text": [
      "                                    Variable Data Type\n",
      "sexo                                    sexo    object\n",
      "posse_de_veiculo            posse_de_veiculo    object\n",
      "posse_de_imovel              posse_de_imovel    object\n",
      "qtd_filhos                        qtd_filhos     int64\n",
      "tipo_renda                        tipo_renda    object\n",
      "educacao                            educacao    object\n",
      "estado_civil                    estado_civil    object\n",
      "tipo_residencia              tipo_residencia    object\n",
      "idade                                  idade   float64\n",
      "tempo_emprego                  tempo_emprego   float64\n",
      "possui_celular                possui_celular     int64\n",
      "possui_fone_comercial  possui_fone_comercial     int64\n",
      "possui_fone                      possui_fone     int64\n",
      "possui_email                    possui_email     int64\n",
      "qt_pessoas_residencia  qt_pessoas_residencia   float64\n",
      "mau                                      mau      bool\n"
     ]
    }
   ],
   "source": [
    "# Criar um DataFrame com os nomes das variáveis e seus tipos de dados\n",
    "variables_info = pd.DataFrame({\n",
    "    'Variable': df.columns,\n",
    "    'Data Type': df.dtypes.astype(str)\n",
    "})\n",
    "\n",
    "# Exibir o DataFrame\n",
    "print(variables_info)"
   ]
  },
  {
   "cell_type": "code",
   "execution_count": 57,
   "metadata": {},
   "outputs": [
    {
     "name": "stdout",
     "output_type": "stream",
     "text": [
      "                                    Variable Data Type  qtd_categorias\n",
      "sexo                                    sexo    object               2\n",
      "posse_de_veiculo            posse_de_veiculo    object               2\n",
      "posse_de_imovel              posse_de_imovel    object               2\n",
      "qtd_filhos                        qtd_filhos     int64               8\n",
      "tipo_renda                        tipo_renda    object               5\n",
      "educacao                            educacao    object               5\n",
      "estado_civil                    estado_civil    object               5\n",
      "tipo_residencia              tipo_residencia    object               6\n",
      "idade                                  idade   float64            5298\n",
      "tempo_emprego                  tempo_emprego   float64            3005\n",
      "possui_celular                possui_celular     int64               1\n",
      "possui_fone_comercial  possui_fone_comercial     int64               2\n",
      "possui_fone                      possui_fone     int64               2\n",
      "possui_email                    possui_email     int64               2\n",
      "qt_pessoas_residencia  qt_pessoas_residencia   float64               9\n",
      "mau                                      mau      bool               2\n"
     ]
    }
   ],
   "source": [
    "# Inicializar uma lista vazia para armazenar a quantidade de categorias\n",
    "qtd_categorias = []\n",
    "\n",
    "# Percorrer os nomes das variáveis e contar o número de categorias (valores únicos)\n",
    "for col in df.columns:\n",
    "    qtd_categorias.append(df[col].nunique())\n",
    "\n",
    "# Adicionar a nova coluna ao DataFrame\n",
    "variables_info['qtd_categorias'] = qtd_categorias\n",
    "\n",
    "# Exibir o DataFrame\n",
    "print(variables_info)"
   ]
  },
  {
   "cell_type": "markdown",
   "metadata": {
    "id": "h0XKJFhY_2si"
   },
   "source": [
    "#### 3) Crie variáveis dummy para as variáveis necessárias (i.e. aquelas que são qualitativas e não estão armazenadas como {0, 1} ou {True, False}. Crie um *dataframe* apenas com as variáveis apropriadas para entrada no scikitlearn - elimine as variáveis tipo *str*, mantendo apenas suas versões *dummy*."
   ]
  },
  {
   "cell_type": "code",
   "execution_count": 59,
   "metadata": {
    "id": "ePbdZDOi_2sj"
   },
   "outputs": [
    {
     "name": "stdout",
     "output_type": "stream",
     "text": [
      "   qtd_filhos      idade  tempo_emprego  possui_celular  \\\n",
      "0           0  58.832877       3.106849               1   \n",
      "1           0  52.356164       8.358904               1   \n",
      "2           0  52.356164       8.358904               1   \n",
      "3           0  46.224658       2.106849               1   \n",
      "4           0  29.230137       3.021918               1   \n",
      "\n",
      "   possui_fone_comercial  possui_fone  possui_email  qt_pessoas_residencia  \\\n",
      "0                      0            0             0                    2.0   \n",
      "1                      0            1             1                    1.0   \n",
      "2                      0            1             1                    1.0   \n",
      "3                      1            1             1                    2.0   \n",
      "4                      0            0             0                    2.0   \n",
      "\n",
      "     mau  sexo_M  ...  educacao_Secondary / secondary special  \\\n",
      "0  False    True  ...                                    True   \n",
      "1  False   False  ...                                    True   \n",
      "2  False   False  ...                                    True   \n",
      "3  False    True  ...                                   False   \n",
      "4  False   False  ...                                   False   \n",
      "\n",
      "   estado_civil_Married  estado_civil_Separated  \\\n",
      "0                  True                   False   \n",
      "1                 False                   False   \n",
      "2                 False                   False   \n",
      "3                  True                   False   \n",
      "4                  True                   False   \n",
      "\n",
      "   estado_civil_Single / not married  estado_civil_Widow  \\\n",
      "0                              False               False   \n",
      "1                               True               False   \n",
      "2                               True               False   \n",
      "3                              False               False   \n",
      "4                              False               False   \n",
      "\n",
      "   tipo_residencia_House / apartment  tipo_residencia_Municipal apartment  \\\n",
      "0                               True                                False   \n",
      "1                               True                                False   \n",
      "2                               True                                False   \n",
      "3                               True                                False   \n",
      "4                               True                                False   \n",
      "\n",
      "   tipo_residencia_Office apartment  tipo_residencia_Rented apartment  \\\n",
      "0                             False                             False   \n",
      "1                             False                             False   \n",
      "2                             False                             False   \n",
      "3                             False                             False   \n",
      "4                             False                             False   \n",
      "\n",
      "   tipo_residencia_With parents  \n",
      "0                         False  \n",
      "1                         False  \n",
      "2                         False  \n",
      "3                         False  \n",
      "4                         False  \n",
      "\n",
      "[5 rows x 29 columns]\n",
      "qtd_filhos                                  int64\n",
      "idade                                     float64\n",
      "tempo_emprego                             float64\n",
      "possui_celular                              int64\n",
      "possui_fone_comercial                       int64\n",
      "possui_fone                                 int64\n",
      "possui_email                                int64\n",
      "qt_pessoas_residencia                     float64\n",
      "mau                                          bool\n",
      "sexo_M                                       bool\n",
      "posse_de_veiculo_Y                           bool\n",
      "posse_de_imovel_Y                            bool\n",
      "tipo_renda_Pensioner                         bool\n",
      "tipo_renda_State servant                     bool\n",
      "tipo_renda_Student                           bool\n",
      "tipo_renda_Working                           bool\n",
      "educacao_Higher education                    bool\n",
      "educacao_Incomplete higher                   bool\n",
      "educacao_Lower secondary                     bool\n",
      "educacao_Secondary / secondary special       bool\n",
      "estado_civil_Married                         bool\n",
      "estado_civil_Separated                       bool\n",
      "estado_civil_Single / not married            bool\n",
      "estado_civil_Widow                           bool\n",
      "tipo_residencia_House / apartment            bool\n",
      "tipo_residencia_Municipal apartment          bool\n",
      "tipo_residencia_Office apartment             bool\n",
      "tipo_residencia_Rented apartment             bool\n",
      "tipo_residencia_With parents                 bool\n",
      "dtype: object\n"
     ]
    }
   ],
   "source": [
    "# Identificar variáveis qualitativas que precisam ser convertidas em variáveis dummy\n",
    "qualitative_vars = df.select_dtypes(include=['object', 'category']).columns\n",
    "\n",
    "# Criar variáveis dummy para essas variáveis\n",
    "df_dummies = pd.get_dummies(df, columns=qualitative_vars, drop_first=True)\n",
    "\n",
    "# Mostrar as primeiras linhas do DataFrame com variáveis dummy\n",
    "print(df_dummies.head())\n",
    "\n",
    "# Verificar os tipos de dados das variáveis restantes para garantir que não há mais variáveis do tipo str\n",
    "print(df_dummies.dtypes)"
   ]
  },
  {
   "cell_type": "markdown",
   "metadata": {
    "id": "uhaqFcPE_2sj"
   },
   "source": [
    "#### 4) Qual variável é mais poderosa?\n",
    "\n",
    "Considere as variáveis ```possui_email``` e ```posse_de_veiculo```. Faça uma tabela cruzada entre elas e responda qual delas te parece mais poderosa para prever a probabilidade de ```mau = 1```?"
   ]
  },
  {
   "cell_type": "code",
   "execution_count": 61,
   "metadata": {
    "id": "3wUAHc_-_2sj"
   },
   "outputs": [
    {
     "name": "stdout",
     "output_type": "stream",
     "text": [
      "Tabela cruzada entre 'mau' e 'possui_email':\n",
      "possui_email         0        1\n",
      "mau                            \n",
      "False         0.976269  0.97973\n",
      "True          0.023731  0.02027\n",
      "\n",
      "Tabela cruzada entre 'mau' e 'posse_de_veiculo':\n",
      "posse_de_veiculo         N         Y\n",
      "mau                                 \n",
      "False             0.975732  0.977905\n",
      "True              0.024268  0.022095\n"
     ]
    }
   ],
   "source": [
    "# Tabela cruzada entre 'mau' e 'possui_email'\n",
    "crosstab_email = pd.crosstab(df['mau'], df['possui_email'], normalize='columns')\n",
    "\n",
    "# Tabela cruzada entre 'mau' e 'posse_de_veiculo'\n",
    "crosstab_veiculo = pd.crosstab(df['mau'], df['posse_de_veiculo'], normalize='columns')\n",
    "\n",
    "# Exibir as tabelas cruzadas\n",
    "print(\"Tabela cruzada entre 'mau' e 'possui_email':\")\n",
    "print(crosstab_email)\n",
    "\n",
    "print(\"\\nTabela cruzada entre 'mau' e 'posse_de_veiculo':\")\n",
    "print(crosstab_veiculo)"
   ]
  },
  {
   "cell_type": "code",
   "execution_count": null,
   "metadata": {},
   "outputs": [],
   "source": [
    "# A diferença na probabilidade de mau = 1 entre as categorias de possui_email (0.003461) é um pouco maior do que a diferença entre as categorias \n",
    "# de posse_de_veiculo (0.002173). Portanto a variável possui_email parece ser um pouco mais poderosa para prever a probabilidade de  mau = 1 em \n",
    "# comparação com posse_de_veiculo."
   ]
  },
  {
   "cell_type": "markdown",
   "metadata": {
    "id": "G2Issl2e_2sj"
   },
   "source": [
    "#### 5) Salve a base, pois ela será utilizada no final deste módulo."
   ]
  },
  {
   "cell_type": "code",
   "execution_count": 63,
   "metadata": {
    "id": "KSEj8OL9_2sk"
   },
   "outputs": [],
   "source": [
    "df_dummies.to_csv('demo01_modificado.csv', index=False)"
   ]
  }
 ],
 "metadata": {
  "colab": {
   "provenance": []
  },
  "kernelspec": {
   "display_name": "Python 3 (ipykernel)",
   "language": "python",
   "name": "python3"
  },
  "language_info": {
   "codemirror_mode": {
    "name": "ipython",
    "version": 3
   },
   "file_extension": ".py",
   "mimetype": "text/x-python",
   "name": "python",
   "nbconvert_exporter": "python",
   "pygments_lexer": "ipython3",
   "version": "3.12.4"
  }
 },
 "nbformat": 4,
 "nbformat_minor": 4
}
