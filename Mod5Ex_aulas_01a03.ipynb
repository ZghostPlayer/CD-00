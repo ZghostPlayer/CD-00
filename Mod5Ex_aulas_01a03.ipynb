{
 "cells": [
  {
   "cell_type": "markdown",
   "metadata": {},
   "source": [
    "# Módulo 5 Tarefa 1\n",
    "## Base de nascidos vivos do DataSUS\n",
    "O DataSUS disponibiliza diversos arquivos de dados com relação a seus segurados, conforme a [lei da transparência de informações públicas](https://www.sisgov.com/transparencia-acesso-informacao/#:~:text=A%20Lei%20da%20Transpar%C3%AAncia%20(LC,em%20um%20site%20na%20internet.). \n",
    "\n",
    "Essas informações podem ser obtidas pela internet [aqui](http://www2.datasus.gov.br/DATASUS/index.php?area=0901&item=1). Como o processo de obtenção desses arquivos foge um pouco do nosso escopo, deixamos o arquivo SINASC_RO_2019.csv` já como vai ser encontrado no DataSUS. O dicionário de dados está no arquivo `estrutura_sinasc_para_CD.pdf` (o nome do arquivo tal qual no portal do DataSUS).\n",
    "\n",
    "### Nosso objetivo\n",
    "Queremos deixar uma base organizada para podermos estudar a relação entre partos com risco para o bebê e algumas condições como tempo de parto, consultas de pré-natal etc.\n",
    "\n",
    "#### Preparação da base\n",
    "1. Carregue a base 'SINASC_RO_2019.csv'. Conte o número de registros e o número de registros não duplicados da base. Dica: você aprendeu um método que remove duplicados, encadeie este método com um outro método que conta o número de linhas. **Há linhas duplicadas?**  \n",
    "\n",
    "2. Conte o número de valores *missing* por variável.  \n",
    "\n",
    "3. Ok, no item anterior você deve ter achado pouco prático ler a informação de tantas variáveis, muitas delas nem devem ser interesantes. Então crie uma seleção dessa base somente com as colunas que interessam. São elas:\n",
    "` \n",
    "['LOCNASC', 'IDADEMAE', 'ESTCIVMAE', 'ESCMAE', 'QTDFILVIVO', \n",
    "    'GESTACAO', 'GRAVIDEZ', 'CONSULTAS', 'APGAR5'] \n",
    "`\n",
    "Refaça a contagem de valores *missings*.  \n",
    "\n",
    "4. Apgar é uma *nota* que o pediatra dá ao bebê quando nasce de acordo com algumas características associadas principalmente à respiração. Apgar 1 e Apgar 5 são as notas 1 e 5 minutos do nascimento. Apgar5 será a nossa variável de interesse principal. Então remova todos os registros com Apgar5 não preenchido. Para esta seleção, conte novamente o número de linhas e o número de *missings*.  \n",
    "\n",
    "5. observe que as variáveis `['ESTCIVMAE', 'CONSULTAS']` possuem o código `9`, que significa *ignorado*. Vamos assumir que o não preenchido é o mesmo que o código `9`.<br>\n",
    "6. Substitua os valores faltantes da quantitativa (`QTDFILVIVO`) por zero.  \n",
    "7. Das restantes, decida que valore te parece mais adequado (um 'não preenchido' ou um valor 'mais provável' como no item anterior) e preencha. Justifique. Lembre-se de que tratamento de dados é trabalho do cientista, e que estamos tomando decisões a todo o momento - não há necessariamente certo e errado aqui.  \n",
    "8. O Apgar possui uma classificação indicando se o bebê passou por asfixia:\n",
    "- Entre 8 e 10 está em uma faixa 'normal'. \n",
    "- Entre 6 e 7, significa que o recém-nascido passou por 'asfixia leve'. \n",
    "- Entre 4 e 5 significa 'asfixia moderada'.\n",
    "- Entre 0 e 3 significa 'asfixia severa'.  \n",
    "\n",
    "Crie uma categorização dessa variável com essa codificação e calcule as frequências dessa categorização.  \n",
    "<br>\n",
    "9. Renomeie as variáveis para que fiquem no *snake case*, ou seja, em letras minúsculas, com um *underscore* entre as palávras. Dica: repare que se você não quiser criar um *dataframe* novo, você vai precisar usar a opção `inplace = True`."
   ]
  },
  {
   "cell_type": "code",
   "execution_count": 2,
   "metadata": {},
   "outputs": [
    {
     "name": "stdout",
     "output_type": "stream",
     "text": [
      "(27028, 69)\n"
     ]
    },
    {
     "data": {
      "text/plain": [
       "(27028, 69)"
      ]
     },
     "execution_count": 2,
     "metadata": {},
     "output_type": "execute_result"
    }
   ],
   "source": [
    "import pandas as pd\n",
    "import requests\n",
    "\n",
    "# 1) seu código aqui\n",
    "sinasc = pd.read_csv('SINASC_RO_2019.csv')\n",
    "print(sinasc.shape)\n",
    "sinasc.drop_duplicates().shape\n",
    "# Não há duplicados"
   ]
  },
  {
   "cell_type": "code",
   "execution_count": 4,
   "metadata": {},
   "outputs": [
    {
     "name": "stdout",
     "output_type": "stream",
     "text": [
      "ORIGEM          0\n",
      "CODESTAB      115\n",
      "CODMUNNASC      0\n",
      "LOCNASC         0\n",
      "IDADEMAE        0\n",
      "             ... \n",
      "munResUf        0\n",
      "munResLat       1\n",
      "munResLon       1\n",
      "munResAlt       1\n",
      "munResArea      1\n",
      "Length: 69, dtype: int64\n"
     ]
    }
   ],
   "source": [
    "# 2) seu código aqui\n",
    "# Contar o número de valores missing por variável\n",
    "missing_values = sinasc.isnull().sum()\n",
    "\n",
    "print(missing_values)"
   ]
  },
  {
   "cell_type": "code",
   "execution_count": 6,
   "metadata": {},
   "outputs": [
    {
     "name": "stdout",
     "output_type": "stream",
     "text": [
      "LOCNASC          0\n",
      "IDADEMAE         0\n",
      "ESTCIVMAE      317\n",
      "ESCMAE         312\n",
      "QTDFILVIVO    1573\n",
      "GESTACAO      1232\n",
      "GRAVIDEZ        79\n",
      "CONSULTAS        0\n",
      "APGAR5         103\n",
      "dtype: int64\n"
     ]
    }
   ],
   "source": [
    "# 3) seu código aqui\n",
    "# Selecionar as colunas de interesse\n",
    "colunas_interesse = ['LOCNASC', 'IDADEMAE', 'ESTCIVMAE', 'ESCMAE', 'QTDFILVIVO', 'GESTACAO', 'GRAVIDEZ', 'CONSULTAS', 'APGAR5']\n",
    "sinasc_selecionado = sinasc[colunas_interesse]\n",
    "\n",
    "# Contar o número de valores missing por variável nas colunas selecionadas\n",
    "missing_values_selecionado = sinasc_selecionado.isnull().sum()\n",
    "\n",
    "print(missing_values_selecionado)"
   ]
  },
  {
   "cell_type": "code",
   "execution_count": 8,
   "metadata": {},
   "outputs": [
    {
     "name": "stdout",
     "output_type": "stream",
     "text": [
      "Número de linhas restantes: 26925\n",
      "Número de valores missing por variável nas colunas selecionadas:\n",
      "LOCNASC          0\n",
      "IDADEMAE         0\n",
      "ESTCIVMAE      315\n",
      "ESCMAE         310\n",
      "QTDFILVIVO    1566\n",
      "GESTACAO      1216\n",
      "GRAVIDEZ        76\n",
      "CONSULTAS        0\n",
      "APGAR5           0\n",
      "dtype: int64\n"
     ]
    }
   ],
   "source": [
    "# 4) seu código aqui\n",
    "# Remover registros com APGAR5 não preenchido\n",
    "sinasc_limpo = sinasc_selecionado.dropna(subset=['APGAR5'])\n",
    "\n",
    "# Contar o número de linhas restantes\n",
    "numero_linhas_restantes = sinasc_limpo.shape[0]\n",
    "\n",
    "# Contar o número de valores missing por variável nas colunas selecionadas após a remoção\n",
    "missing_values_limpo = sinasc_limpo.isnull().sum()\n",
    "\n",
    "print(f'Número de linhas restantes: {numero_linhas_restantes}')\n",
    "print('Número de valores missing por variável nas colunas selecionadas:')\n",
    "print(missing_values_limpo)"
   ]
  },
  {
   "cell_type": "code",
   "execution_count": 14,
   "metadata": {},
   "outputs": [
    {
     "name": "stdout",
     "output_type": "stream",
     "text": [
      "Número de linhas restantes: 26925\n",
      "Número de valores missing por variável nas colunas selecionadas:\n",
      "LOCNASC          0\n",
      "IDADEMAE         0\n",
      "ESTCIVMAE        0\n",
      "ESCMAE         310\n",
      "QTDFILVIVO    1566\n",
      "GESTACAO      1216\n",
      "GRAVIDEZ        76\n",
      "CONSULTAS        0\n",
      "APGAR5           0\n",
      "dtype: int64\n"
     ]
    }
   ],
   "source": [
    "# 5) seu código aqui\n",
    "# Substituir valores missing por 9 nas colunas 'ESTCIVMAE' e 'CONSULTAS' usando .loc\n",
    "sinasc_limpo.loc[:, 'ESTCIVMAE'] = sinasc_limpo['ESTCIVMAE'].fillna(9)\n",
    "sinasc_limpo.loc[:, 'CONSULTAS'] = sinasc_limpo['CONSULTAS'].fillna(9)\n",
    "\n",
    "# Contar o número de linhas restantes\n",
    "numero_linhas_restantes = sinasc_limpo.shape[0]\n",
    "\n",
    "# Contar o número de valores missing por variável nas colunas selecionadas após a remoção\n",
    "missing_values_limpo = sinasc_limpo.isnull().sum()\n",
    "\n",
    "print(f'Número de linhas restantes: {numero_linhas_restantes}')\n",
    "print('Número de valores missing por variável nas colunas selecionadas:')\n",
    "print(missing_values_limpo)"
   ]
  },
  {
   "cell_type": "code",
   "execution_count": 16,
   "metadata": {},
   "outputs": [
    {
     "name": "stdout",
     "output_type": "stream",
     "text": [
      "Número de linhas restantes: 26925\n",
      "Número de valores missing por variável nas colunas selecionadas:\n",
      "LOCNASC          0\n",
      "IDADEMAE         0\n",
      "ESTCIVMAE        0\n",
      "ESCMAE         310\n",
      "QTDFILVIVO       0\n",
      "GESTACAO      1216\n",
      "GRAVIDEZ        76\n",
      "CONSULTAS        0\n",
      "APGAR5           0\n",
      "dtype: int64\n"
     ]
    }
   ],
   "source": [
    "# 6) Seu código aqui\n",
    "# Substituir valores missing por 0 na coluna 'QTDFILVIVO'\n",
    "sinasc_limpo.loc[:, 'QTDFILVIVO'] = sinasc_limpo['QTDFILVIVO'].fillna(0)\n",
    "\n",
    "# Contar o número de linhas restantes\n",
    "numero_linhas_restantes = sinasc_limpo.shape[0]\n",
    "\n",
    "# Contar o número de valores missing por variável nas colunas selecionadas após a remoção\n",
    "missing_values_limpo = sinasc_limpo.isnull().sum()\n",
    "\n",
    "print(f'Número de linhas restantes: {numero_linhas_restantes}')\n",
    "print('Número de valores missing por variável nas colunas selecionadas:')\n",
    "print(missing_values_limpo)"
   ]
  },
  {
   "cell_type": "code",
   "execution_count": 18,
   "metadata": {},
   "outputs": [
    {
     "name": "stdout",
     "output_type": "stream",
     "text": [
      "Número de linhas restantes: 26925\n",
      "Número de valores missing por variável nas colunas selecionadas:\n",
      "LOCNASC       0\n",
      "IDADEMAE      0\n",
      "ESTCIVMAE     0\n",
      "ESCMAE        0\n",
      "QTDFILVIVO    0\n",
      "GESTACAO      0\n",
      "GRAVIDEZ      0\n",
      "CONSULTAS     0\n",
      "APGAR5        0\n",
      "dtype: int64\n"
     ]
    }
   ],
   "source": [
    "# 7) seu código aqui\n",
    "# Substituir valores missing por \"Desconhecido\" ou similar nas colunas categóricas e pela mediana na coluna quantitativa\n",
    "sinasc_limpo.loc[:, 'LOCNASC'] = sinasc_limpo['LOCNASC'].fillna('Desconhecido')\n",
    "sinasc_limpo.loc[:, 'IDADEMAE'] = sinasc_limpo['IDADEMAE'].fillna(sinasc_limpo['IDADEMAE'].median())\n",
    "sinasc_limpo.loc[:, 'ESCMAE'] = sinasc_limpo['ESCMAE'].fillna('Desconhecido')\n",
    "sinasc_limpo.loc[:, 'GESTACAO'] = sinasc_limpo['GESTACAO'].fillna('Desconhecido')\n",
    "sinasc_limpo.loc[:, 'GRAVIDEZ'] = sinasc_limpo['GRAVIDEZ'].fillna('Desconhecido')\n",
    "\n",
    "# Contar o número de linhas restantes\n",
    "numero_linhas_restantes = sinasc_limpo.shape[0]\n",
    "\n",
    "# Contar o número de valores missing por variável nas colunas selecionadas após a remoção\n",
    "missing_values_limpo = sinasc_limpo.isnull().sum()\n",
    "\n",
    "print(f'Número de linhas restantes: {numero_linhas_restantes}')\n",
    "print('Número de valores missing por variável nas colunas selecionadas:')\n",
    "print(missing_values_limpo)"
   ]
  },
  {
   "cell_type": "code",
   "execution_count": 26,
   "metadata": {},
   "outputs": [
    {
     "name": "stdout",
     "output_type": "stream",
     "text": [
      "Frequências das categorias de APGAR5:\n",
      "APGAR5_categoria\n",
      "Normal              26463\n",
      "Asfixia leve          320\n",
      "Asfixia severa         74\n",
      "Asfixia moderada       68\n",
      "Name: count, dtype: int64\n"
     ]
    }
   ],
   "source": [
    "# 8) seu código aqui\n",
    "# Remover registros com APGAR5 não preenchido e garantir que estamos trabalhando com uma cópia\n",
    "sinasc_limpo = sinasc_selecionado.dropna(subset=['APGAR5']).copy()\n",
    "\n",
    "# Criar a coluna 'APGAR5_categoria' com valores padrão antes de aplicar as condições\n",
    "sinasc_limpo['APGAR5_categoria'] = 'Desconhecido'\n",
    "\n",
    "# Aplicar categorização com base nas condições\n",
    "sinasc_limpo.loc[sinasc_limpo['APGAR5'] >= 8, 'APGAR5_categoria'] = 'Normal'\n",
    "sinasc_limpo.loc[(sinasc_limpo['APGAR5'] >= 6) & (sinasc_limpo['APGAR5'] <= 7), 'APGAR5_categoria'] = 'Asfixia leve'\n",
    "sinasc_limpo.loc[(sinasc_limpo['APGAR5'] >= 4) & (sinasc_limpo['APGAR5'] <= 5), 'APGAR5_categoria'] = 'Asfixia moderada'\n",
    "sinasc_limpo.loc[(sinasc_limpo['APGAR5'] >= 0) & (sinasc_limpo['APGAR5'] <= 3), 'APGAR5_categoria'] = 'Asfixia severa'\n",
    "\n",
    "# Calcular as frequências das categorias de APGAR5\n",
    "frequencias_apgar5 = sinasc_limpo['APGAR5_categoria'].value_counts()\n",
    "\n",
    "print('Frequências das categorias de APGAR5:')\n",
    "print(frequencias_apgar5)"
   ]
  },
  {
   "cell_type": "code",
   "execution_count": 28,
   "metadata": {},
   "outputs": [
    {
     "name": "stdout",
     "output_type": "stream",
     "text": [
      "\n",
      "Nomes das colunas após o renomeamento:\n",
      "Index(['local_nascimento', 'idade_mae', 'estado_civil_mae', 'escolaridade_mae',\n",
      "       'quantidade_filhos_vivos', 'gestacao', 'gravidez', 'consultas',\n",
      "       'apgar_5_minutos', 'apgar_5_categoria'],\n",
      "      dtype='object')\n"
     ]
    }
   ],
   "source": [
    "# 9) seu código aqui\n",
    "# Renomear as colunas para o formato snake_case\n",
    "sinasc_limpo.rename(columns={\n",
    "    'LOCNASC': 'local_nascimento',\n",
    "    'IDADEMAE': 'idade_mae',\n",
    "    'ESTCIVMAE': 'estado_civil_mae',\n",
    "    'ESCMAE': 'escolaridade_mae',\n",
    "    'QTDFILVIVO': 'quantidade_filhos_vivos',\n",
    "    'GESTACAO': 'gestacao',\n",
    "    'GRAVIDEZ': 'gravidez',\n",
    "    'CONSULTAS': 'consultas',\n",
    "    'APGAR5': 'apgar_5_minutos',\n",
    "    'APGAR5_categoria': 'apgar_5_categoria'\n",
    "}, inplace=True)\n",
    "\n",
    "# Verificar os nomes das colunas após o renomeamento\n",
    "print('\\nNomes das colunas após o renomeamento:')\n",
    "print(sinasc_limpo.columns)"
   ]
  },
  {
   "cell_type": "code",
   "execution_count": null,
   "metadata": {},
   "outputs": [],
   "source": []
  }
 ],
 "metadata": {
  "kernelspec": {
   "display_name": "Python 3 (ipykernel)",
   "language": "python",
   "name": "python3"
  },
  "language_info": {
   "codemirror_mode": {
    "name": "ipython",
    "version": 3
   },
   "file_extension": ".py",
   "mimetype": "text/x-python",
   "name": "python",
   "nbconvert_exporter": "python",
   "pygments_lexer": "ipython3",
   "version": "3.12.4"
  }
 },
 "nbformat": 4,
 "nbformat_minor": 4
}
